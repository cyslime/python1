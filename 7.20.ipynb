{
 "cells": [
  {
   "cell_type": "markdown",
   "metadata": {},
   "source": [
    "# 函数\n",
    "\n",
    "- 函数可以用来定义可重复代码，组织和简化\n",
    "- 一般来说一个函数在实际开发中为一个小功能\n",
    "- 一个类为一个大功能\n",
    "- 同样函数的长度不要超过一屏"
   ]
  },
  {
   "cell_type": "markdown",
   "metadata": {},
   "source": [
    "Python中的所有函数实际上都是有返回值(return None),\n",
    "\n",
    "如果你没有设置return,那么Python将不显示None.\n",
    "\n",
    "如果你设置return,那么将返回出return这个值."
   ]
  },
  {
   "cell_type": "code",
   "execution_count": 11,
   "metadata": {},
   "outputs": [],
   "source": [
    "def cy():\n",
    "    print('haha')\n",
    "    return 100"
   ]
  },
  {
   "cell_type": "code",
   "execution_count": 12,
   "metadata": {},
   "outputs": [
    {
     "name": "stdout",
     "output_type": "stream",
     "text": [
      "haha\n"
     ]
    },
    {
     "data": {
      "text/plain": [
       "100"
      ]
     },
     "execution_count": 12,
     "metadata": {},
     "output_type": "execute_result"
    }
   ],
   "source": [
    "cy()"
   ]
  },
  {
   "cell_type": "code",
   "execution_count": 13,
   "metadata": {},
   "outputs": [],
   "source": [
    "def cy(name):\n",
    "    print(name,'美女')"
   ]
  },
  {
   "cell_type": "code",
   "execution_count": 5,
   "metadata": {},
   "outputs": [
    {
     "name": "stdout",
     "output_type": "stream",
     "text": [
      "cuiyu 美女\n"
     ]
    }
   ],
   "source": [
    "cy('cuiyu')"
   ]
  },
  {
   "cell_type": "code",
   "execution_count": 1,
   "metadata": {},
   "outputs": [],
   "source": [
    "def cy(name1,name2):\n",
    "    print(name1,'美女')\n",
    "    print(name2,'儿子')"
   ]
  },
  {
   "cell_type": "code",
   "execution_count": 2,
   "metadata": {},
   "outputs": [
    {
     "name": "stdout",
     "output_type": "stream",
     "text": [
      "cy 美女\n",
      "wej 儿子\n"
     ]
    }
   ],
   "source": [
    "cy(name1='cy',name2='wej')"
   ]
  },
  {
   "cell_type": "code",
   "execution_count": 6,
   "metadata": {},
   "outputs": [],
   "source": [
    "def panduan(number):\n",
    "    if number%2==0:\n",
    "        print('0')\n",
    "    else:\n",
    "        print('j')"
   ]
  },
  {
   "cell_type": "code",
   "execution_count": 8,
   "metadata": {},
   "outputs": [
    {
     "name": "stdout",
     "output_type": "stream",
     "text": [
      "0\n"
     ]
    }
   ],
   "source": [
    "panduan(number=2)"
   ]
  },
  {
   "cell_type": "markdown",
   "metadata": {},
   "source": [
    "## 定义一个函数\n",
    "\n",
    "def function_name(list of parameters):\n",
    "    \n",
    "    do something\n",
    "![](../Photo/69.png)\n",
    "- 以前使用的random 或者range 或者print.. 其实都是函数或者类"
   ]
  },
  {
   "cell_type": "code",
   "execution_count": 40,
   "metadata": {},
   "outputs": [],
   "source": [
    "def max_(num1,num2,num3):\n",
    "    if num1>num2>num3 or num1>num3>num2:\n",
    "        result =num1\n",
    "    if num2>num1>num3 or num2>num3>num1:\n",
    "        result =num2\n",
    "    if num3>num2>num1 or num3>num1>num2:\n",
    "        result =num3\n",
    "    return result"
   ]
  },
  {
   "cell_type": "code",
   "execution_count": 41,
   "metadata": {},
   "outputs": [
    {
     "data": {
      "text/plain": [
       "5"
      ]
     },
     "execution_count": 41,
     "metadata": {},
     "output_type": "execute_result"
    }
   ],
   "source": [
    "max_(num1=2,num2=3,num3=5)"
   ]
  },
  {
   "cell_type": "code",
   "execution_count": 43,
   "metadata": {},
   "outputs": [],
   "source": [
    "import random"
   ]
  },
  {
   "cell_type": "code",
   "execution_count": 45,
   "metadata": {},
   "outputs": [
    {
     "ename": "SyntaxError",
     "evalue": "invalid syntax (<ipython-input-45-6b98cdc6985a>, line 1)",
     "output_type": "error",
     "traceback": [
      "\u001b[1;36m  File \u001b[1;32m\"<ipython-input-45-6b98cdc6985a>\"\u001b[1;36m, line \u001b[1;32m1\u001b[0m\n\u001b[1;33m    def hahah(n,m)\u001b[0m\n\u001b[1;37m                  ^\u001b[0m\n\u001b[1;31mSyntaxError\u001b[0m\u001b[1;31m:\u001b[0m invalid syntax\n"
     ]
    }
   ],
   "source": [
    "def hahah(n,m)\n",
    "n=random.randint(0,5)\n",
    "while 1:\n",
    "    n=eval(input('<<'))\n",
    "    if m==n:\n",
    "        print('stmart')\n",
    "    elif m<n:\n",
    "        print('太小了')\n",
    "    elif m>n:\n",
    "        print('太大了')\n",
    "    \n",
    "    "
   ]
  },
  {
   "cell_type": "markdown",
   "metadata": {},
   "source": [
    "函数的参数如果有默认值的情况,当你调用该函数的时候:\n",
    "可以不给予参数值,那么就会走该参数的默认值\n",
    "否则的话,就走你给予的参数值."
   ]
  },
  {
   "cell_type": "code",
   "execution_count": null,
   "metadata": {},
   "outputs": [],
   "source": []
  },
  {
   "cell_type": "markdown",
   "metadata": {},
   "source": [
    "## 调用一个函数\n",
    "- functionName()\n",
    "- \"()\" 就代表调用"
   ]
  },
  {
   "cell_type": "code",
   "execution_count": null,
   "metadata": {},
   "outputs": [],
   "source": [
    "#函数名可做参数使用\n",
    "#def（a）：\n",
    "#    a（）\n"
   ]
  },
  {
   "cell_type": "markdown",
   "metadata": {},
   "source": [
    "![](../Photo/70.png)"
   ]
  },
  {
   "cell_type": "markdown",
   "metadata": {},
   "source": [
    "## 带返回值和不带返回值的函数\n",
    "- return 返回的内容\n",
    "- return 返回多个值\n",
    "- 一般情况下，在多个函数协同完成一个功能的时候，那么将会有返回值"
   ]
  },
  {
   "cell_type": "markdown",
   "metadata": {},
   "source": [
    "![](../Photo/71.png)\n",
    "\n",
    "- 当然也可以自定义返回None"
   ]
  },
  {
   "cell_type": "markdown",
   "metadata": {},
   "source": [
    "## EP：\n",
    "![](../Photo/72.png)"
   ]
  },
  {
   "cell_type": "markdown",
   "metadata": {},
   "source": [
    "## 类型和关键字参数\n",
    "- 普通参数\n",
    "- 多个参数\n",
    "- 默认值参数\n",
    "- 不定长参数"
   ]
  },
  {
   "cell_type": "markdown",
   "metadata": {},
   "source": [
    "## 普通参数"
   ]
  },
  {
   "cell_type": "markdown",
   "metadata": {},
   "source": [
    "## 多个参数"
   ]
  },
  {
   "cell_type": "markdown",
   "metadata": {},
   "source": [
    "## 默认值参数"
   ]
  },
  {
   "cell_type": "markdown",
   "metadata": {},
   "source": [
    "## 强制命名"
   ]
  },
  {
   "cell_type": "code",
   "execution_count": null,
   "metadata": {},
   "outputs": [],
   "source": [
    "#强制命名：参数比较重要，，不希望出错\n",
    "#name=“”\n",
    "#加了*后有，就必须写等于号"
   ]
  },
  {
   "cell_type": "code",
   "execution_count": 3,
   "metadata": {},
   "outputs": [],
   "source": [
    "def feizhuliu(*,name):\n",
    "    print('hello',name)"
   ]
  },
  {
   "cell_type": "code",
   "execution_count": 4,
   "metadata": {},
   "outputs": [
    {
     "name": "stdout",
     "output_type": "stream",
     "text": [
      "hello cy\n"
     ]
    }
   ],
   "source": [
    "feizhuliu(name='cy')"
   ]
  },
  {
   "cell_type": "markdown",
   "metadata": {},
   "source": [
    "## 不定长参数\n",
    "- \\*args\n",
    "> - 不定长，来多少装多少，不装也是可以的\n",
    "  - 返回的数据类型是元组\n",
    "  - args 名字是可以修改的，只是我们约定俗成的是args\n",
    "- \\**kwargs \n",
    "> - 返回的字典\n",
    "  - 输入的一定要是表达式（键值对）\n",
    "- name,\\*args,name2,\\**kwargs  使用参数名"
   ]
  },
  {
   "cell_type": "code",
   "execution_count": null,
   "metadata": {},
   "outputs": [],
   "source": [
    "#重要的是*不是参数名\n",
    "#可以放多个值\n",
    "#一个*是元组，两个是字典"
   ]
  },
  {
   "cell_type": "code",
   "execution_count": 5,
   "metadata": {},
   "outputs": [],
   "source": [
    "def cu(*arge):\n",
    "    print(arge)"
   ]
  },
  {
   "cell_type": "code",
   "execution_count": 6,
   "metadata": {},
   "outputs": [
    {
     "name": "stdout",
     "output_type": "stream",
     "text": [
      "(1, 2, 3, 4, 5, 6)\n"
     ]
    }
   ],
   "source": [
    "cu(1,2,3,4,5,6)"
   ]
  },
  {
   "cell_type": "code",
   "execution_count": 10,
   "metadata": {},
   "outputs": [],
   "source": [
    "def max_(*arge):\n",
    "    res = 0\n",
    "    for i in arge:\n",
    "        if i>res:\n",
    "            res = i\n",
    "    return res\n",
    "        \n",
    "    \n",
    "    "
   ]
  },
  {
   "cell_type": "code",
   "execution_count": 12,
   "metadata": {},
   "outputs": [
    {
     "data": {
      "text/plain": [
       "5"
      ]
     },
     "execution_count": 12,
     "metadata": {},
     "output_type": "execute_result"
    }
   ],
   "source": [
    "max_(1,2,3,4,5)"
   ]
  },
  {
   "cell_type": "code",
   "execution_count": 16,
   "metadata": {},
   "outputs": [],
   "source": [
    "def sum_(*cu):\n",
    "    print(cu)\n",
    "    h=0\n",
    "    for i in cu:\n",
    "        h=i+h\n",
    "    print(h)\n",
    "         "
   ]
  },
  {
   "cell_type": "code",
   "execution_count": 17,
   "metadata": {},
   "outputs": [
    {
     "name": "stdout",
     "output_type": "stream",
     "text": [
      "(1, 4, 5)\n",
      "10\n"
     ]
    }
   ],
   "source": [
    "sum_(1,4,5)"
   ]
  },
  {
   "cell_type": "code",
   "execution_count": 20,
   "metadata": {},
   "outputs": [],
   "source": [
    "def sum_(*cu):\n",
    "    print(cu)\n",
    "    h=0\n",
    "    t=0\n",
    "    for i in cu:\n",
    "        h=i+h\n",
    "        t=1+t\n",
    "    print(h/t)"
   ]
  },
  {
   "cell_type": "code",
   "execution_count": 21,
   "metadata": {},
   "outputs": [
    {
     "name": "stdout",
     "output_type": "stream",
     "text": [
      "(3, 3, 6)\n",
      "4.0\n"
     ]
    }
   ],
   "source": [
    "sum_(3,3,6)"
   ]
  },
  {
   "cell_type": "code",
   "execution_count": null,
   "metadata": {},
   "outputs": [],
   "source": [
    "#**是字典"
   ]
  },
  {
   "cell_type": "code",
   "execution_count": 22,
   "metadata": {},
   "outputs": [],
   "source": [
    "def ttt(**kwargs):\n",
    "    print(kwargs)"
   ]
  },
  {
   "cell_type": "code",
   "execution_count": 24,
   "metadata": {},
   "outputs": [
    {
     "name": "stdout",
     "output_type": "stream",
     "text": [
      "{'a': 2, 'b': 3, 'c': 9}\n"
     ]
    }
   ],
   "source": [
    "ttt(a=2,b=3,c=9)"
   ]
  },
  {
   "cell_type": "code",
   "execution_count": 27,
   "metadata": {},
   "outputs": [],
   "source": [
    "c=1000\n",
    "def cc():\n",
    "    global c\n",
    "    c+=100\n",
    "    print(c)"
   ]
  },
  {
   "cell_type": "code",
   "execution_count": null,
   "metadata": {},
   "outputs": [],
   "source": [
    "#用global可以调用外面的c(全局变量)\n",
    "#在函数体内想要改变外部变量用global\n",
    "#只要调用外部变量就用global\n",
    "#locals本地变量"
   ]
  },
  {
   "cell_type": "code",
   "execution_count": 28,
   "metadata": {},
   "outputs": [
    {
     "name": "stdout",
     "output_type": "stream",
     "text": [
      "1000\n"
     ]
    }
   ],
   "source": [
    "cc()"
   ]
  },
  {
   "cell_type": "markdown",
   "metadata": {},
   "source": [
    "## 变量的作用域\n",
    "- 局部变量 local\n",
    "- 全局变量 global\n",
    "- globals 函数返回一个全局变量的字典，包括所有导入的变量\n",
    "- locals() 函数会以字典类型返回当前位置的全部局部变量。"
   ]
  },
  {
   "cell_type": "code",
   "execution_count": null,
   "metadata": {},
   "outputs": [],
   "source": []
  },
  {
   "cell_type": "markdown",
   "metadata": {},
   "source": [
    "## 注意：\n",
    "- global ：在进行赋值操作的时候需要声明\n",
    "- 官方解释：This is because when you make an assignment to a variable in a scope, that variable becomes local to that scope and shadows any similarly named variable in the outer scope.\n",
    "- ![](../Photo/73.png)"
   ]
  },
  {
   "cell_type": "code",
   "execution_count": 26,
   "metadata": {},
   "outputs": [],
   "source": [
    "def ttt(*rags):\n",
    "    print(rags)\n",
    "    b=1\n",
    "    j=1\n",
    "    c=1\n",
    "    for i in rags:\n",
    "        y=ord(i)\n",
    "        o=ord(i)\n",
    "        p=ord(i)\n",
    "        if 48<y<57:\n",
    "            b+=1\n",
    "        if 65<o<90:\n",
    "            j+=1\n",
    "        if 97<p<122:\n",
    "            c+=1\n",
    "    print(b,j,c)\n",
    "            \n",
    "            "
   ]
  },
  {
   "cell_type": "code",
   "execution_count": 27,
   "metadata": {},
   "outputs": [
    {
     "name": "stdout",
     "output_type": "stream",
     "text": [
      "('a', 'A', 'C', 'z', '1')\n",
      "2 2 1\n"
     ]
    }
   ],
   "source": [
    "ttt('a','A','C','z','1')"
   ]
  },
  {
   "cell_type": "code",
   "execution_count": 38,
   "metadata": {},
   "outputs": [],
   "source": [
    "def cc(n):\n",
    "    res=0\n",
    "    if n%2==0:\n",
    "        for i in range(2,n+1,2):\n",
    "            res +=(1/i)\n",
    "    elif n%0!=0:\n",
    "        for j in range(1,n+1,2):\n",
    "            res +=(1/j)\n",
    "    return res"
   ]
  },
  {
   "cell_type": "code",
   "execution_count": 40,
   "metadata": {},
   "outputs": [
    {
     "data": {
      "text/plain": [
       "0.75"
      ]
     },
     "execution_count": 40,
     "metadata": {},
     "output_type": "execute_result"
    }
   ],
   "source": [
    "cc(4)"
   ]
  },
  {
   "cell_type": "code",
   "execution_count": 42,
   "metadata": {},
   "outputs": [],
   "source": [
    "def a():\n",
    "    a=input('相加的数字')\n",
    "    b=input('相加次数')\n",
    "    res=0\n",
    "    for i in range(1,int(b)+1):\n",
    "        print(a * i)\n",
    "        res +=int(a*i)\n",
    "    return res\n"
   ]
  },
  {
   "cell_type": "code",
   "execution_count": 43,
   "metadata": {},
   "outputs": [
    {
     "name": "stdout",
     "output_type": "stream",
     "text": [
      "相加的数字2\n",
      "相加次数5\n",
      "2\n",
      "22\n",
      "222\n",
      "2222\n",
      "22222\n"
     ]
    },
    {
     "data": {
      "text/plain": [
       "24690"
      ]
     },
     "execution_count": 43,
     "metadata": {},
     "output_type": "execute_result"
    }
   ],
   "source": [
    "a()"
   ]
  },
  {
   "cell_type": "code",
   "execution_count": 47,
   "metadata": {},
   "outputs": [],
   "source": [
    "def c():\n",
    "    a=input('<<')\n",
    "    b=input('<<')\n",
    "    res=0\n",
    "    for i in range(int(b)):\n",
    "        for j in range(i+1):\n",
    "            res +=2*10**j\n",
    "    print(res)"
   ]
  },
  {
   "cell_type": "code",
   "execution_count": 48,
   "metadata": {},
   "outputs": [
    {
     "name": "stdout",
     "output_type": "stream",
     "text": [
      "<<2\n",
      "<<5\n",
      "24690\n"
     ]
    }
   ],
   "source": [
    "c()"
   ]
  },
  {
   "cell_type": "code",
   "execution_count": 58,
   "metadata": {},
   "outputs": [
    {
     "name": "stdout",
     "output_type": "stream",
     "text": [
      "1\n",
      "1\n",
      "2\n",
      "6\n",
      "24\n",
      "120\n",
      "720\n",
      "5040\n",
      "40320\n",
      "362880\n",
      "3628800\n",
      "39916800\n",
      "479001600\n",
      "6227020800\n",
      "87178291200\n",
      "1307674368000\n",
      "20922789888000\n",
      "355687428096000\n",
      "6402373705728000\n",
      "121645100408832000\n",
      "2432902008176640000\n"
     ]
    }
   ],
   "source": [
    "res=0\n",
    "for i in range(21):\n",
    "    rres=1\n",
    "    for j in range(1,1+i):\n",
    "        rres *=j\n",
    "    print(rres)\n",
    "        "
   ]
  },
  {
   "cell_type": "code",
   "execution_count": 56,
   "metadata": {
    "scrolled": true
   },
   "outputs": [
    {
     "name": "stdout",
     "output_type": "stream",
     "text": [
      "1\n",
      "1\n",
      "1\n",
      "2\n",
      "6\n",
      "24\n",
      "120\n",
      "720\n",
      "5040\n",
      "40320\n",
      "362880\n",
      "3628800\n",
      "39916800\n",
      "479001600\n",
      "6227020800\n",
      "87178291200\n",
      "1307674368000\n",
      "20922789888000\n",
      "355687428096000\n",
      "6402373705728000\n",
      "121645100408832000\n"
     ]
    }
   ],
   "source": [
    "res=0\n",
    "for i in range(21):\n",
    "    rres=1\n",
    "    for j in range(i-1,1,-1):\n",
    "        rres *=j\n",
    "    print(rres)"
   ]
  },
  {
   "cell_type": "markdown",
   "metadata": {},
   "source": [
    "1.汉诺塔流程\n",
    "2.求方差"
   ]
  },
  {
   "cell_type": "code",
   "execution_count": 6,
   "metadata": {},
   "outputs": [],
   "source": [
    "def sum_(*cu):\n",
    "    print(cu)\n",
    "    h=0\n",
    "    t=0\n",
    "    c=0\n",
    "    d=0\n",
    "    for i in cu:\n",
    "        h=i+h\n",
    "        t=1+t\n",
    "        c=h/t\n",
    "        d=(i-c)**2\n",
    "        d+=1\n",
    "        d=d/i\n",
    "    print(d)"
   ]
  },
  {
   "cell_type": "code",
   "execution_count": 7,
   "metadata": {},
   "outputs": [
    {
     "name": "stdout",
     "output_type": "stream",
     "text": [
      "(2, 3)\n",
      "0.4166666666666667\n"
     ]
    }
   ],
   "source": [
    "sum_(2,3)"
   ]
  },
  {
   "cell_type": "markdown",
   "metadata": {},
   "source": [
    "# Homework\n",
    "- 1\n",
    "![](../Photo/74.png)"
   ]
  },
  {
   "cell_type": "code",
   "execution_count": 25,
   "metadata": {},
   "outputs": [],
   "source": [
    "def wujiaoxing():\n",
    "    count =0\n",
    "    for i in range(1,101):\n",
    "        j=i*(3*i-1)/2\n",
    "        print(j,end=' ')\n",
    "        count += 1\n",
    "        if count %10==0:\n",
    "            print('')\n",
    "        "
   ]
  },
  {
   "cell_type": "code",
   "execution_count": 26,
   "metadata": {},
   "outputs": [
    {
     "name": "stdout",
     "output_type": "stream",
     "text": [
      "1.0 5.0 12.0 22.0 35.0 51.0 70.0 92.0 117.0 145.0 \n",
      "176.0 210.0 247.0 287.0 330.0 376.0 425.0 477.0 532.0 590.0 \n",
      "651.0 715.0 782.0 852.0 925.0 1001.0 1080.0 1162.0 1247.0 1335.0 \n",
      "1426.0 1520.0 1617.0 1717.0 1820.0 1926.0 2035.0 2147.0 2262.0 2380.0 \n",
      "2501.0 2625.0 2752.0 2882.0 3015.0 3151.0 3290.0 3432.0 3577.0 3725.0 \n",
      "3876.0 4030.0 4187.0 4347.0 4510.0 4676.0 4845.0 5017.0 5192.0 5370.0 \n",
      "5551.0 5735.0 5922.0 6112.0 6305.0 6501.0 6700.0 6902.0 7107.0 7315.0 \n",
      "7526.0 7740.0 7957.0 8177.0 8400.0 8626.0 8855.0 9087.0 9322.0 9560.0 \n",
      "9801.0 10045.0 10292.0 10542.0 10795.0 11051.0 11310.0 11572.0 11837.0 12105.0 \n",
      "12376.0 12650.0 12927.0 13207.0 13490.0 13776.0 14065.0 14357.0 14652.0 14950.0 \n"
     ]
    }
   ],
   "source": [
    "wujiaoxing()"
   ]
  },
  {
   "cell_type": "markdown",
   "metadata": {},
   "source": [
    "- 2 \n",
    "![](../Photo/75.png)"
   ]
  },
  {
   "cell_type": "code",
   "execution_count": null,
   "metadata": {},
   "outputs": [],
   "source": [
    "def sum_():\n",
    "    shu=input('<<')\n",
    "    ge=shu%10\n",
    "    shi=shu//10%10\n",
    "    bai=shu//100\n",
    "    he=ge+shi+dai\n",
    "    \n",
    "    \n",
    "    "
   ]
  },
  {
   "cell_type": "code",
   "execution_count": 44,
   "metadata": {},
   "outputs": [],
   "source": [
    "def sum_():\n",
    "    shu=input('<<')\n",
    "    b=0\n",
    "    for i in str(shu):\n",
    "        b=b+int(i)\n",
    "    print(b)"
   ]
  },
  {
   "cell_type": "code",
   "execution_count": 45,
   "metadata": {},
   "outputs": [
    {
     "name": "stdout",
     "output_type": "stream",
     "text": [
      "<<598\n",
      "22\n"
     ]
    }
   ],
   "source": [
    "sum_()"
   ]
  },
  {
   "cell_type": "markdown",
   "metadata": {},
   "source": [
    "- 3\n",
    "![](../Photo/76.png)"
   ]
  },
  {
   "cell_type": "code",
   "execution_count": 40,
   "metadata": {},
   "outputs": [],
   "source": [
    "def paixu(x,y,z):\n",
    "    x,y,z=input('<<')\n",
    "    if x<y<z:\n",
    "        print(x,y,z)\n",
    "    if x<z<y:\n",
    "        print(x,z,y)\n",
    "    if y<x<z:\n",
    "        print(y,x,z)\n",
    "    if y<z<x:\n",
    "        print(y,z,x)\n",
    "    if z<x<y:\n",
    "        print(z,x,y)\n",
    "    if z<y<x:\n",
    "        print(z,y,x)\n"
   ]
  },
  {
   "cell_type": "code",
   "execution_count": 43,
   "metadata": {},
   "outputs": [
    {
     "name": "stdout",
     "output_type": "stream",
     "text": [
      "<<6\n",
      "<<9\n",
      "<<5\n",
      "5 6 9\n"
     ]
    }
   ],
   "source": [
    "paixu(1,2,3)"
   ]
  },
  {
   "cell_type": "markdown",
   "metadata": {},
   "source": [
    "- 4\n",
    "![](../Photo/77.png)"
   ]
  },
  {
   "cell_type": "code",
   "execution_count": 74,
   "metadata": {},
   "outputs": [],
   "source": [
    "def zhi(money,nrate):\n",
    "    for i in range(30):\n",
    "        nrate=nrate/100\n",
    "        weilai=money*(1+(money*nrate*i))\n",
    "        weilai +=1\n",
    "        i+=1\n",
    "        print(i,    weilai)"
   ]
  },
  {
   "cell_type": "code",
   "execution_count": 75,
   "metadata": {},
   "outputs": [
    {
     "name": "stdout",
     "output_type": "stream",
     "text": [
      "1 1001.0\n",
      "2 1901.0\n",
      "3 1019.0\n",
      "4 1001.27\n",
      "5 1001.0036000000001\n",
      "6 1001.000045\n",
      "7 1001.0000005400001\n",
      "8 1001.0000000063001\n",
      "9 1001.000000000072\n",
      "10 1001.0000000000009\n",
      "11 1001.0\n",
      "12 1001.0\n",
      "13 1001.0\n",
      "14 1001.0\n",
      "15 1001.0\n",
      "16 1001.0\n",
      "17 1001.0\n",
      "18 1001.0\n",
      "19 1001.0\n",
      "20 1001.0\n",
      "21 1001.0\n",
      "22 1001.0\n",
      "23 1001.0\n",
      "24 1001.0\n",
      "25 1001.0\n",
      "26 1001.0\n",
      "27 1001.0\n",
      "28 1001.0\n",
      "29 1001.0\n",
      "30 1001.0\n"
     ]
    }
   ],
   "source": [
    "zhi(1000,9)"
   ]
  },
  {
   "cell_type": "markdown",
   "metadata": {},
   "source": [
    "- 5\n",
    "![](../Photo/78.png)"
   ]
  },
  {
   "cell_type": "code",
   "execution_count": 88,
   "metadata": {},
   "outputs": [],
   "source": [
    "def printchars(ch1,ch2,num):\n",
    "    for i in range(ch1,ch2,1):\n",
    "        c=chr(i)\n",
    "        num +=1\n",
    "        print(c,end=' ')\n",
    "        if num%10==0:\n",
    "            print('')\n",
    "    "
   ]
  },
  {
   "cell_type": "code",
   "execution_count": 92,
   "metadata": {},
   "outputs": [
    {
     "name": "stdout",
     "output_type": "stream",
     "text": [
      "I J K L M N O P Q R \n",
      "S T U V W X Y Z "
     ]
    }
   ],
   "source": [
    "printchars(ch1=73,ch2=91,num=10)"
   ]
  },
  {
   "cell_type": "markdown",
   "metadata": {},
   "source": [
    "- 6\n",
    "![](../Photo/79.png)"
   ]
  },
  {
   "cell_type": "code",
   "execution_count": 111,
   "metadata": {},
   "outputs": [],
   "source": [
    "def day(year):\n",
    "    for i in range(0,11,1):\n",
    "        if ((year%4==0) and (year%100!=0)) or(year%400==0):\n",
    "            print(year,'有366天')\n",
    "            i+=1\n",
    "            year+=1\n",
    "        else:\n",
    "            print(year,'有355天')\n",
    "            i +=1\n",
    "            year +=1"
   ]
  },
  {
   "cell_type": "code",
   "execution_count": 112,
   "metadata": {},
   "outputs": [
    {
     "name": "stdout",
     "output_type": "stream",
     "text": [
      "2010 有355天\n",
      "2011 有355天\n",
      "2012 有366天\n",
      "2013 有355天\n",
      "2014 有355天\n",
      "2015 有355天\n",
      "2016 有366天\n",
      "2017 有355天\n",
      "2018 有355天\n",
      "2019 有355天\n",
      "2020 有366天\n"
     ]
    }
   ],
   "source": [
    "day(2010)"
   ]
  },
  {
   "cell_type": "markdown",
   "metadata": {},
   "source": [
    "- 7\n",
    "![](../Photo/80.png)"
   ]
  },
  {
   "cell_type": "code",
   "execution_count": 113,
   "metadata": {},
   "outputs": [],
   "source": [
    "def jiao(x1,y1,x2,y2):\n",
    "    a=((x2-x1)**2 +(y2-y1)**2)**(1/2)\n",
    "    return a"
   ]
  },
  {
   "cell_type": "code",
   "execution_count": 114,
   "metadata": {},
   "outputs": [
    {
     "data": {
      "text/plain": [
       "1.0"
      ]
     },
     "execution_count": 114,
     "metadata": {},
     "output_type": "execute_result"
    }
   ],
   "source": [
    "jiao(0,0,1,0)"
   ]
  },
  {
   "cell_type": "markdown",
   "metadata": {},
   "source": [
    "- 8\n",
    "![](../Photo/81.png)"
   ]
  },
  {
   "cell_type": "code",
   "execution_count": 32,
   "metadata": {},
   "outputs": [],
   "source": [
    "def meisen():\n",
    "    for i in range(2,32):\n",
    "        for j in range(2,i):\n",
    "            if i%j==0:\n",
    "                break\n",
    "        else:\n",
    "            print(str(i),2**int(i)-1)\n",
    "            \n",
    "        "
   ]
  },
  {
   "cell_type": "code",
   "execution_count": 33,
   "metadata": {},
   "outputs": [
    {
     "name": "stdout",
     "output_type": "stream",
     "text": [
      "2 3\n",
      "3 7\n",
      "5 31\n",
      "7 127\n",
      "11 2047\n",
      "13 8191\n",
      "17 131071\n",
      "19 524287\n",
      "23 8388607\n",
      "29 536870911\n",
      "31 2147483647\n"
     ]
    }
   ],
   "source": [
    "meisen()"
   ]
  },
  {
   "cell_type": "markdown",
   "metadata": {},
   "source": [
    "- 9\n",
    "![](../Photo/82.png)\n",
    "![](../Photo/83.png)"
   ]
  },
  {
   "cell_type": "code",
   "execution_count": 41,
   "metadata": {},
   "outputs": [],
   "source": [
    "import time"
   ]
  },
  {
   "cell_type": "code",
   "execution_count": 38,
   "metadata": {},
   "outputs": [
    {
     "name": "stdout",
     "output_type": "stream",
     "text": [
      "Fri May 10 23:02:37 2019\n"
     ]
    }
   ],
   "source": [
    "\n",
    "print(time.asctime(time.localtime(time.time())))"
   ]
  },
  {
   "cell_type": "code",
   "execution_count": 43,
   "metadata": {},
   "outputs": [
    {
     "name": "stdout",
     "output_type": "stream",
     "text": [
      "当前时间戳为： 1557501226.8205526\n"
     ]
    }
   ],
   "source": [
    "ticks = time.time()\n",
    "print('当前时间戳为：',ticks)"
   ]
  },
  {
   "cell_type": "markdown",
   "metadata": {},
   "source": [
    "- 10\n",
    "![](../Photo/84.png)"
   ]
  },
  {
   "cell_type": "code",
   "execution_count": 1,
   "metadata": {},
   "outputs": [],
   "source": [
    "import random"
   ]
  },
  {
   "cell_type": "code",
   "execution_count": 2,
   "metadata": {},
   "outputs": [],
   "source": [
    "def youxi():\n",
    "    x=random.randint(1,6)\n",
    "    y=random.randint(1,6)\n",
    "    z=x+y\n",
    "    c=0\n",
    "    print(z)\n",
    "    if z==2 or z==3 or z==12:\n",
    "        print('you win')\n",
    "    if z==7 or z==11:\n",
    "        print('you lose')\n",
    "    else:\n",
    "        c=z\n",
    "    while 1:\n",
    "        o=random.randint(1,6)\n",
    "        p=random.randint(1,6)\n",
    "        q=o+p\n",
    "        print('you rolled',q)\n",
    "        if q==7:\n",
    "            print('you lose')\n",
    "            break\n",
    "        if q==c:\n",
    "            print('you win')\n",
    "            break\n",
    "            \n",
    "            \n",
    "        \n",
    "    "
   ]
  },
  {
   "cell_type": "code",
   "execution_count": 3,
   "metadata": {},
   "outputs": [
    {
     "name": "stdout",
     "output_type": "stream",
     "text": [
      "5\n",
      "you rolled 4\n",
      "you rolled 6\n",
      "you rolled 4\n",
      "you rolled 6\n",
      "you rolled 9\n",
      "you rolled 7\n",
      "you lose\n"
     ]
    }
   ],
   "source": [
    "youxi()"
   ]
  },
  {
   "cell_type": "markdown",
   "metadata": {},
   "source": [
    "- 11 \n",
    "### 去网上寻找如何用Python代码发送邮件"
   ]
  },
  {
   "cell_type": "code",
   "execution_count": null,
   "metadata": {},
   "outputs": [],
   "source": [
    "def sendEmail(mailAddress, mailText):\n",
    "    import smtplib\n",
    "    from email.mime.text import MIMEText\n",
    "    from email.utils import formataddr\n",
    " \n",
    "    msg = MIMEText(mailText, 'plain', 'utf-8')\n",
    "    msg['From'] = formataddr([\"Dog\", 'lixiaodaoaaa@126.com'])\n",
    "    msg['To'] = formataddr([mailText, mailAddress])\n",
    "    msg['Subject'] = \"主题\"\n",
    "    try:\n",
    "        server = smtplib.SMTP(\"smtp.126.com\", 25)\n",
    "        server.login(\"lixiaodaoaaa@126.com\", \"DogYouXiangPassword\")\n",
    "        server.sendmail('lixiaodaoaaa@126.com', [mailAddress], msg.as_string())\n",
    "        server.quit()\n",
    "        return True\n",
    "    except:\n",
    "        return False\n",
    " \n",
    " \n",
    "userInputEmailAdd = input(\"请输入你要发送的邮件地址：  \")\n",
    "userInputEmailContent = input(\"请输入你想说的话：  \")\n",
    "if sendEmail(userInputEmailAdd, userInputEmailContent):\n",
    "    print(\"发送成功\")\n",
    "else:\n",
    "    print(\"发送失败。。。。。\")"
   ]
  }
 ],
 "metadata": {
  "kernelspec": {
   "display_name": "Python 3",
   "language": "python",
   "name": "python3"
  },
  "language_info": {
   "codemirror_mode": {
    "name": "ipython",
    "version": 3
   },
   "file_extension": ".py",
   "mimetype": "text/x-python",
   "name": "python",
   "nbconvert_exporter": "python",
   "pygments_lexer": "ipython3",
   "version": "3.7.3"
  }
 },
 "nbformat": 4,
 "nbformat_minor": 2
}
