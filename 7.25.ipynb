{
 "cells": [
  {
   "cell_type": "markdown",
   "metadata": {},
   "source": [
    "# 列表List\n",
    "- 一个列表可以储存任意大小的数据集合，你可以理解为他是一个容器"
   ]
  },
  {
   "cell_type": "code",
   "execution_count": 6,
   "metadata": {},
   "outputs": [],
   "source": [
    "def b():\n",
    "    pass"
   ]
  },
  {
   "cell_type": "code",
   "execution_count": 7,
   "metadata": {},
   "outputs": [
    {
     "data": {
      "text/plain": [
       "[1, 2, 1.5, 'ab', True, <function __main__.b()>, [1, 2, ['fg']]]"
      ]
     },
     "execution_count": 7,
     "metadata": {},
     "output_type": "execute_result"
    }
   ],
   "source": [
    "a=[1,2,1.5,'ab',True,b,[1,2,['fg']]]\n",
    "a"
   ]
  },
  {
   "cell_type": "code",
   "execution_count": 8,
   "metadata": {},
   "outputs": [
    {
     "data": {
      "text/plain": [
       "['a', 'b', 'c']"
      ]
     },
     "execution_count": 8,
     "metadata": {},
     "output_type": "execute_result"
    }
   ],
   "source": [
    "#强制转换\n",
    "#int不可强制 可迭代才可以强制转换\n",
    "c='abc'\n",
    "list(c)"
   ]
  },
  {
   "cell_type": "code",
   "execution_count": null,
   "metadata": {},
   "outputs": [],
   "source": []
  },
  {
   "cell_type": "markdown",
   "metadata": {},
   "source": [
    "## 先来一个例子爽一爽\n",
    "![](../Photo/115.png)"
   ]
  },
  {
   "cell_type": "markdown",
   "metadata": {},
   "source": [
    "## 创建一个列表\n",
    "- a = [1,2,3,4,5]"
   ]
  },
  {
   "cell_type": "markdown",
   "metadata": {},
   "source": [
    "## 列表的一般操作\n",
    "![](../Photo/116.png)"
   ]
  },
  {
   "cell_type": "code",
   "execution_count": 9,
   "metadata": {},
   "outputs": [
    {
     "data": {
      "text/plain": [
       "[1, 2, 1, 2]"
      ]
     },
     "execution_count": 9,
     "metadata": {},
     "output_type": "execute_result"
    }
   ],
   "source": [
    "a=[1,2]\n",
    "b=[1,2]\n",
    "a+b"
   ]
  },
  {
   "cell_type": "code",
   "execution_count": 10,
   "metadata": {},
   "outputs": [
    {
     "data": {
      "text/plain": [
       "[1, 2, 1, 2, 1, 2, 1, 2, 1, 2, 1, 2, 1, 2, 1, 2, 1, 2, 1, 2]"
      ]
     },
     "execution_count": 10,
     "metadata": {},
     "output_type": "execute_result"
    }
   ],
   "source": [
    "a=[1,2]\n",
    "10*a"
   ]
  },
  {
   "cell_type": "code",
   "execution_count": 11,
   "metadata": {},
   "outputs": [],
   "source": [
    "a=[1,2,3,4,5,[100,200,[1000,[4000]]]]\n"
   ]
  },
  {
   "cell_type": "code",
   "execution_count": 12,
   "metadata": {},
   "outputs": [
    {
     "data": {
      "text/plain": [
       "100"
      ]
     },
     "execution_count": 12,
     "metadata": {},
     "output_type": "execute_result"
    }
   ],
   "source": [
    "a[5][0]"
   ]
  },
  {
   "cell_type": "code",
   "execution_count": 13,
   "metadata": {},
   "outputs": [
    {
     "ename": "IndexError",
     "evalue": "list index out of range",
     "output_type": "error",
     "traceback": [
      "\u001b[1;31m---------------------------------------------------------------------------\u001b[0m",
      "\u001b[1;31mIndexError\u001b[0m                                Traceback (most recent call last)",
      "\u001b[1;32m<ipython-input-13-d597aff8a071>\u001b[0m in \u001b[0;36m<module>\u001b[1;34m\u001b[0m\n\u001b[1;32m----> 1\u001b[1;33m \u001b[0ma\u001b[0m\u001b[1;33m[\u001b[0m\u001b[1;36m5\u001b[0m\u001b[1;33m]\u001b[0m\u001b[1;33m[\u001b[0m\u001b[1;36m2\u001b[0m\u001b[1;33m]\u001b[0m\u001b[1;33m[\u001b[0m\u001b[1;36m1\u001b[0m\u001b[1;33m]\u001b[0m\u001b[1;33m[\u001b[0m\u001b[1;36m0\u001b[0m\u001b[1;33m]\u001b[0m\u001b[1;33m\u001b[0m\u001b[1;33m\u001b[0m\u001b[0m\n\u001b[0m",
      "\u001b[1;31mIndexError\u001b[0m: list index out of range"
     ]
    }
   ],
   "source": [
    "a[5][2][1][0]"
   ]
  },
  {
   "cell_type": "code",
   "execution_count": 14,
   "metadata": {},
   "outputs": [],
   "source": [
    "b=[1,2,3,]\n",
    "b[1]=100"
   ]
  },
  {
   "cell_type": "code",
   "execution_count": 16,
   "metadata": {},
   "outputs": [
    {
     "data": {
      "text/plain": [
       "[1, 100, 3]"
      ]
     },
     "execution_count": 16,
     "metadata": {},
     "output_type": "execute_result"
    }
   ],
   "source": [
    "b"
   ]
  },
  {
   "cell_type": "code",
   "execution_count": 15,
   "metadata": {},
   "outputs": [
    {
     "data": {
      "text/plain": [
       "[1, 100, 3]"
      ]
     },
     "execution_count": 15,
     "metadata": {},
     "output_type": "execute_result"
    }
   ],
   "source": [
    "b"
   ]
  },
  {
   "cell_type": "code",
   "execution_count": 20,
   "metadata": {},
   "outputs": [
    {
     "data": {
      "text/plain": [
       "[100, 2, 100, 4, 100, 6, 100, 8, 100, 10]"
      ]
     },
     "execution_count": 20,
     "metadata": {},
     "output_type": "execute_result"
    }
   ],
   "source": [
    "b=[1,2,3,4,5,6,7,8,9,10]\n",
    "for i in range (0,10,2):\n",
    "    b[i]=100\n",
    "b"
   ]
  },
  {
   "cell_type": "code",
   "execution_count": 24,
   "metadata": {},
   "outputs": [
    {
     "name": "stdout",
     "output_type": "stream",
     "text": [
      "[1, 2]\n",
      "[4, 5]\n",
      "[7, 8]\n",
      "[10]\n"
     ]
    }
   ],
   "source": [
    "b=[1,2,3,4,5,6,7,8,9,10]\n",
    "for i in range(0,10,3):\n",
    "    print(b[i:i+2])"
   ]
  },
  {
   "cell_type": "code",
   "execution_count": 25,
   "metadata": {},
   "outputs": [
    {
     "data": {
      "text/plain": [
       "4"
      ]
     },
     "execution_count": 25,
     "metadata": {},
     "output_type": "execute_result"
    }
   ],
   "source": [
    "c=[1,3,2,5]\n",
    "len(c)"
   ]
  },
  {
   "cell_type": "code",
   "execution_count": 31,
   "metadata": {},
   "outputs": [
    {
     "name": "stdout",
     "output_type": "stream",
     "text": [
      "5\n"
     ]
    }
   ],
   "source": [
    "c=[1,2,3,[3,4]]#求元素个数\n",
    "count=0\n",
    "for i in c:\n",
    "    if type(i)==list:\n",
    "        for j in i:\n",
    "            count +=1\n",
    "    else:\n",
    "        count +=1\n",
    "print(count)"
   ]
  },
  {
   "cell_type": "code",
   "execution_count": 32,
   "metadata": {},
   "outputs": [
    {
     "ename": "TypeError",
     "evalue": "list indices must be integers or slices, not tuple",
     "output_type": "error",
     "traceback": [
      "\u001b[1;31m---------------------------------------------------------------------------\u001b[0m",
      "\u001b[1;31mTypeError\u001b[0m                                 Traceback (most recent call last)",
      "\u001b[1;32m<ipython-input-32-958ac66cd8b0>\u001b[0m in \u001b[0;36m<module>\u001b[1;34m\u001b[0m\n\u001b[1;32m----> 1\u001b[1;33m \u001b[0ma\u001b[0m\u001b[1;33m[\u001b[0m\u001b[1;36m1\u001b[0m\u001b[1;33m,\u001b[0m\u001b[1;36m2\u001b[0m\u001b[1;33m,\u001b[0m\u001b[1;36m3\u001b[0m\u001b[1;33m]\u001b[0m\u001b[1;33m\u001b[0m\u001b[1;33m\u001b[0m\u001b[0m\n\u001b[0m\u001b[0;32m      2\u001b[0m \u001b[0mi\u001b[0m\u001b[1;33m=\u001b[0m\u001b[1;36m0\u001b[0m\u001b[1;33m\u001b[0m\u001b[1;33m\u001b[0m\u001b[0m\n\u001b[0;32m      3\u001b[0m \u001b[1;32mwhile\u001b[0m \u001b[0mi\u001b[0m\u001b[1;33m<\u001b[0m\u001b[0mlen\u001b[0m\u001b[1;33m(\u001b[0m\u001b[0ma\u001b[0m\u001b[1;33m)\u001b[0m\u001b[1;33m:\u001b[0m\u001b[1;33m\u001b[0m\u001b[1;33m\u001b[0m\u001b[0m\n\u001b[0;32m      4\u001b[0m     \u001b[0mprint\u001b[0m\u001b[1;33m(\u001b[0m\u001b[0ma\u001b[0m\u001b[1;33m[\u001b[0m\u001b[0mi\u001b[0m\u001b[1;33m+\u001b[0m\u001b[1;36m1\u001b[0m\u001b[1;33m]\u001b[0m\u001b[1;33m)\u001b[0m\u001b[1;33m\u001b[0m\u001b[1;33m\u001b[0m\u001b[0m\n\u001b[0;32m      5\u001b[0m     \u001b[0mi\u001b[0m\u001b[1;33m+=\u001b[0m\u001b[1;36m1\u001b[0m\u001b[1;33m\u001b[0m\u001b[1;33m\u001b[0m\u001b[0m\n",
      "\u001b[1;31mTypeError\u001b[0m: list indices must be integers or slices, not tuple"
     ]
    }
   ],
   "source": [
    "a[1,2,3]\n",
    "i=0\n",
    "while i<len(a):\n",
    "    print(a[i+1])\n",
    "    i+=1"
   ]
  },
  {
   "cell_type": "code",
   "execution_count": 3,
   "metadata": {},
   "outputs": [
    {
     "name": "stdout",
     "output_type": "stream",
     "text": [
      "[1, 2, 3, 6, 8]\n"
     ]
    }
   ],
   "source": [
    "a=[1,2,3,6,8]\n",
    "for i in range(len(a)-1):\n",
    "    for j in range(len(a)-1-i):#-1一次锁定最大值\n",
    "        if a[j]>a[j+1]:\n",
    "            a[j],a[j+1]=a[j+1],a[j]\n",
    "print(a)"
   ]
  },
  {
   "cell_type": "markdown",
   "metadata": {},
   "source": [
    "# 列表索引操作\n",
    "- Mylist[index]\n",
    "- 正序索引，逆序索引\n",
    "- 列表一定注意越界\n",
    "- ![](../Photo/117.png)"
   ]
  },
  {
   "cell_type": "markdown",
   "metadata": {},
   "source": [
    "## 列表切片操作\n",
    "- Mylist[start:end]\n",
    "- 正序切片，逆序切片"
   ]
  },
  {
   "cell_type": "markdown",
   "metadata": {},
   "source": [
    "## 列表 +、*、in 、not in"
   ]
  },
  {
   "cell_type": "markdown",
   "metadata": {},
   "source": [
    "## 使用for循环遍历元素\n",
    "- for 循环可以遍历一切可迭代元素"
   ]
  },
  {
   "cell_type": "markdown",
   "metadata": {},
   "source": [
    "## EP：\n",
    "- 使用while 循环遍历列表"
   ]
  },
  {
   "cell_type": "markdown",
   "metadata": {},
   "source": [
    "## 列表的比较\n",
    "- \\>,<,>=,<=,==,!="
   ]
  },
  {
   "cell_type": "markdown",
   "metadata": {},
   "source": [
    "## 列表生成式\n",
    "[x for x in range(10)]"
   ]
  },
  {
   "cell_type": "code",
   "execution_count": null,
   "metadata": {},
   "outputs": [],
   "source": []
  },
  {
   "cell_type": "markdown",
   "metadata": {},
   "source": [
    "## 列表的方法\n",
    "![](../Photo/118.png)"
   ]
  },
  {
   "cell_type": "code",
   "execution_count": 4,
   "metadata": {},
   "outputs": [],
   "source": [
    "a=[1,2,3]\n",
    "b=100\n",
    "a.append(b)"
   ]
  },
  {
   "cell_type": "code",
   "execution_count": 5,
   "metadata": {},
   "outputs": [
    {
     "data": {
      "text/plain": [
       "[1, 2, 3, 100]"
      ]
     },
     "execution_count": 5,
     "metadata": {},
     "output_type": "execute_result"
    }
   ],
   "source": [
    "a"
   ]
  },
  {
   "cell_type": "code",
   "execution_count": 6,
   "metadata": {},
   "outputs": [],
   "source": [
    "a=[1,2,3]\n",
    "b=[100,200]\n",
    "a.append(b)"
   ]
  },
  {
   "cell_type": "code",
   "execution_count": 7,
   "metadata": {},
   "outputs": [
    {
     "data": {
      "text/plain": [
       "[1, 2, 3, [100, 200]]"
      ]
     },
     "execution_count": 7,
     "metadata": {},
     "output_type": "execute_result"
    }
   ],
   "source": [
    "a"
   ]
  },
  {
   "cell_type": "code",
   "execution_count": 9,
   "metadata": {},
   "outputs": [],
   "source": [
    "a=[1,2,[5,6],7]\n",
    "b=[100,200]\n",
    "a[2].append(b)"
   ]
  },
  {
   "cell_type": "code",
   "execution_count": 10,
   "metadata": {},
   "outputs": [
    {
     "data": {
      "text/plain": [
       "[1, 2, [5, 6, [100, 200]], 7]"
      ]
     },
     "execution_count": 10,
     "metadata": {},
     "output_type": "execute_result"
    }
   ],
   "source": [
    "a"
   ]
  },
  {
   "cell_type": "code",
   "execution_count": 12,
   "metadata": {},
   "outputs": [
    {
     "data": {
      "text/plain": [
       "1"
      ]
     },
     "execution_count": 12,
     "metadata": {},
     "output_type": "execute_result"
    }
   ],
   "source": [
    "a=[1,2,[1,6],7]\n",
    "a.count([1,6])"
   ]
  },
  {
   "cell_type": "code",
   "execution_count": 13,
   "metadata": {},
   "outputs": [],
   "source": [
    "a=[1,2,[5,6],7]\n",
    "b=[100,200]\n",
    "a.extend(b)"
   ]
  },
  {
   "cell_type": "code",
   "execution_count": 14,
   "metadata": {},
   "outputs": [
    {
     "data": {
      "text/plain": [
       "[1, 2, [5, 6], 7, 100, 200]"
      ]
     },
     "execution_count": 14,
     "metadata": {},
     "output_type": "execute_result"
    }
   ],
   "source": [
    "a"
   ]
  },
  {
   "cell_type": "code",
   "execution_count": 15,
   "metadata": {},
   "outputs": [
    {
     "data": {
      "text/plain": [
       "[100, 1, 1, 2, 3]"
      ]
     },
     "execution_count": 15,
     "metadata": {},
     "output_type": "execute_result"
    }
   ],
   "source": [
    "c=[1,1,2,3]\n",
    "c.insert(0,100)\n",
    "c"
   ]
  },
  {
   "cell_type": "code",
   "execution_count": null,
   "metadata": {},
   "outputs": [],
   "source": []
  },
  {
   "cell_type": "code",
   "execution_count": 18,
   "metadata": {},
   "outputs": [
    {
     "data": {
      "text/plain": [
       "[100, 1, 2, 100, 3, 4]"
      ]
     },
     "execution_count": 18,
     "metadata": {},
     "output_type": "execute_result"
    }
   ],
   "source": [
    "c=[1,2,3,4]\n",
    "for i in range (0,6,3):\n",
    "    c.insert(i,100)\n",
    "c\n",
    "    "
   ]
  },
  {
   "cell_type": "code",
   "execution_count": 1,
   "metadata": {},
   "outputs": [
    {
     "data": {
      "text/plain": [
       "[100, 1, 2, 100, 3, 4, 100, 5, 6, 100, 7]"
      ]
     },
     "execution_count": 1,
     "metadata": {},
     "output_type": "execute_result"
    }
   ],
   "source": [
    "c=[1,2,3,4,5,6,7]\n",
    "for i in range(0,len(c)+4,3):\n",
    "    c.insert(i,100)\n",
    "c"
   ]
  },
  {
   "cell_type": "code",
   "execution_count": 7,
   "metadata": {},
   "outputs": [
    {
     "data": {
      "text/plain": [
       "1"
      ]
     },
     "execution_count": 7,
     "metadata": {},
     "output_type": "execute_result"
    }
   ],
   "source": [
    "a=[1,2,3]\n",
    "a.pop(0)"
   ]
  },
  {
   "cell_type": "code",
   "execution_count": null,
   "metadata": {},
   "outputs": [],
   "source": []
  },
  {
   "cell_type": "markdown",
   "metadata": {},
   "source": [
    "## 将字符串分割成列表\n",
    "- split  按照自定义的内容拆分"
   ]
  },
  {
   "cell_type": "code",
   "execution_count": 9,
   "metadata": {},
   "outputs": [
    {
     "data": {
      "text/plain": [
       "['a', 'b', 'c', 'd']"
      ]
     },
     "execution_count": 9,
     "metadata": {},
     "output_type": "execute_result"
    }
   ],
   "source": [
    "a='a b c d'\n",
    "a.split(' ')"
   ]
  },
  {
   "cell_type": "code",
   "execution_count": 11,
   "metadata": {},
   "outputs": [
    {
     "data": {
      "text/plain": [
       "'a'"
      ]
     },
     "execution_count": 11,
     "metadata": {},
     "output_type": "execute_result"
    }
   ],
   "source": [
    "a='a!b!c!d'\n",
    "a.split('!')\n",
    "a[0]"
   ]
  },
  {
   "cell_type": "code",
   "execution_count": 14,
   "metadata": {},
   "outputs": [
    {
     "data": {
      "text/plain": [
       "['ab', 'cd']"
      ]
     },
     "execution_count": 14,
     "metadata": {},
     "output_type": "execute_result"
    }
   ],
   "source": [
    "a='ab cd'\n",
    "\n",
    "a.split(' ',2)"
   ]
  },
  {
   "cell_type": "code",
   "execution_count": null,
   "metadata": {},
   "outputs": [],
   "source": []
  },
  {
   "cell_type": "markdown",
   "metadata": {},
   "source": [
    "## EP:\n",
    "![](../Photo/119.png)\n",
    "![](../Photo/120.png)"
   ]
  },
  {
   "cell_type": "code",
   "execution_count": 16,
   "metadata": {},
   "outputs": [],
   "source": [
    "import random"
   ]
  },
  {
   "cell_type": "code",
   "execution_count": 17,
   "metadata": {},
   "outputs": [
    {
     "data": {
      "text/plain": [
       "[1, 5, 4, 2]"
      ]
     },
     "execution_count": 17,
     "metadata": {},
     "output_type": "execute_result"
    }
   ],
   "source": [
    "a=[1,2,5,4]\n",
    "random.shuffle(a)\n",
    "a"
   ]
  },
  {
   "cell_type": "code",
   "execution_count": 22,
   "metadata": {},
   "outputs": [],
   "source": [
    "d=[1,2,3,[2,3],4]\n",
    "d.remove([2,3])"
   ]
  },
  {
   "cell_type": "code",
   "execution_count": 23,
   "metadata": {},
   "outputs": [
    {
     "data": {
      "text/plain": [
       "[1, 2, 3, 4]"
      ]
     },
     "execution_count": 23,
     "metadata": {},
     "output_type": "execute_result"
    }
   ],
   "source": [
    "d"
   ]
  },
  {
   "cell_type": "code",
   "execution_count": 24,
   "metadata": {},
   "outputs": [
    {
     "data": {
      "text/plain": [
       "[4, 3, 2, 1]"
      ]
     },
     "execution_count": 24,
     "metadata": {},
     "output_type": "execute_result"
    }
   ],
   "source": [
    "d=[1,2,3,4]\n",
    "d.reverse()\n",
    "d"
   ]
  },
  {
   "cell_type": "code",
   "execution_count": 25,
   "metadata": {},
   "outputs": [
    {
     "data": {
      "text/plain": [
       "[1, 2, 3, 4]"
      ]
     },
     "execution_count": 25,
     "metadata": {},
     "output_type": "execute_result"
    }
   ],
   "source": [
    "d=[1,2,3,4]\n",
    "d.sort()\n",
    "d"
   ]
  },
  {
   "cell_type": "code",
   "execution_count": 26,
   "metadata": {},
   "outputs": [
    {
     "data": {
      "text/plain": [
       "[4, 3, 2, 1]"
      ]
     },
     "execution_count": 26,
     "metadata": {},
     "output_type": "execute_result"
    }
   ],
   "source": [
    "d=[1,2,3,4]\n",
    "d.sort(reverse=True)\n",
    "d"
   ]
  },
  {
   "cell_type": "markdown",
   "metadata": {},
   "source": [
    "## 列表的复制\n",
    "- copy 浅复制\n",
    "- deepcopy import copy  深复制\n",
    "- http://www.pythontutor.com/visualize.html#mode=edit"
   ]
  },
  {
   "cell_type": "code",
   "execution_count": 19,
   "metadata": {},
   "outputs": [
    {
     "data": {
      "text/plain": [
       "[1, 2, 3]"
      ]
     },
     "execution_count": 19,
     "metadata": {},
     "output_type": "execute_result"
    }
   ],
   "source": [
    "a=[1,2,3]\n",
    "b=a\n",
    "b"
   ]
  },
  {
   "cell_type": "code",
   "execution_count": 20,
   "metadata": {},
   "outputs": [
    {
     "data": {
      "text/plain": [
       "[100, 2, 3]"
      ]
     },
     "execution_count": 20,
     "metadata": {},
     "output_type": "execute_result"
    }
   ],
   "source": [
    "a[0]=100\n",
    "a"
   ]
  },
  {
   "cell_type": "code",
   "execution_count": 21,
   "metadata": {},
   "outputs": [
    {
     "data": {
      "text/plain": [
       "[100, 2, 3]"
      ]
     },
     "execution_count": 21,
     "metadata": {},
     "output_type": "execute_result"
    }
   ],
   "source": [
    "b"
   ]
  },
  {
   "cell_type": "code",
   "execution_count": 22,
   "metadata": {},
   "outputs": [],
   "source": [
    "c=[1,2,3]\n",
    "d=c.copy()"
   ]
  },
  {
   "cell_type": "code",
   "execution_count": 23,
   "metadata": {},
   "outputs": [
    {
     "data": {
      "text/plain": [
       "[100, 2, 3]"
      ]
     },
     "execution_count": 23,
     "metadata": {},
     "output_type": "execute_result"
    }
   ],
   "source": [
    "c[0]=100\n",
    "c"
   ]
  },
  {
   "cell_type": "code",
   "execution_count": 24,
   "metadata": {},
   "outputs": [
    {
     "data": {
      "text/plain": [
       "[1, 2, 3]"
      ]
     },
     "execution_count": 24,
     "metadata": {},
     "output_type": "execute_result"
    }
   ],
   "source": [
    "d"
   ]
  },
  {
   "cell_type": "code",
   "execution_count": null,
   "metadata": {},
   "outputs": [],
   "source": [
    "c=[1,2,3,[100,200]]\n",
    "d=c.copy()"
   ]
  },
  {
   "cell_type": "code",
   "execution_count": 25,
   "metadata": {},
   "outputs": [
    {
     "data": {
      "text/plain": [
       "[1, 2, 3, [100, 200]]"
      ]
     },
     "execution_count": 25,
     "metadata": {},
     "output_type": "execute_result"
    }
   ],
   "source": [
    "import copy\n",
    "a=[1,2,3,[100,200]]\n",
    "b=copy.deepcopy(a)\n",
    "b"
   ]
  },
  {
   "cell_type": "code",
   "execution_count": 26,
   "metadata": {},
   "outputs": [
    {
     "data": {
      "text/plain": [
       "[1, 2, 3, [1000, 200]]"
      ]
     },
     "execution_count": 26,
     "metadata": {},
     "output_type": "execute_result"
    }
   ],
   "source": [
    "a[3][0]=1000\n",
    "a"
   ]
  },
  {
   "cell_type": "code",
   "execution_count": 27,
   "metadata": {},
   "outputs": [
    {
     "data": {
      "text/plain": [
       "[1, 2, 3, [100, 200]]"
      ]
     },
     "execution_count": 27,
     "metadata": {},
     "output_type": "execute_result"
    }
   ],
   "source": [
    "b\n",
    "\n"
   ]
  },
  {
   "cell_type": "markdown",
   "metadata": {},
   "source": [
    "## 列表排序\n",
    "- sort\n",
    "- sorted\n",
    "- 列表的多级排序\n",
    "    - 匿名函数"
   ]
  },
  {
   "cell_type": "code",
   "execution_count": 28,
   "metadata": {},
   "outputs": [
    {
     "name": "stdout",
     "output_type": "stream",
     "text": [
      "10000\n"
     ]
    }
   ],
   "source": [
    "(lambda x:print(x**2))(100)"
   ]
  },
  {
   "cell_type": "code",
   "execution_count": null,
   "metadata": {},
   "outputs": [],
   "source": [
    "c=[1,3,4]\n",
    "c.sort(reverse=True)\n",
    "c."
   ]
  },
  {
   "cell_type": "code",
   "execution_count": 29,
   "metadata": {},
   "outputs": [
    {
     "data": {
      "text/plain": [
       "[['wej', 0], ['sy', 20], ['cy', 100]]"
      ]
     },
     "execution_count": 29,
     "metadata": {},
     "output_type": "execute_result"
    }
   ],
   "source": [
    "c=[['cy',100],['sy',20],['wej',0]]\n",
    "c.sort(key=lambda x:x[1])\n",
    "c"
   ]
  },
  {
   "cell_type": "code",
   "execution_count": 31,
   "metadata": {},
   "outputs": [
    {
     "data": {
      "text/plain": [
       "[['wej', 0, [0, 0]], ['sy', 20, [10, 10]], ['cy', 100, [80, 20]]]"
      ]
     },
     "execution_count": 31,
     "metadata": {},
     "output_type": "execute_result"
    }
   ],
   "source": [
    "c=[['cy',100,[80,20]],\n",
    "   ['sy',20,[10,10]],\n",
    "   ['wej',0,[0,0]]]\n",
    "c.sort(key=lambda x:x[2][0])\n",
    "c"
   ]
  },
  {
   "cell_type": "markdown",
   "metadata": {},
   "source": [
    "## EP：\n",
    "- 手动排序该列表[5,3,8,0,17]，以升序或者降序"
   ]
  },
  {
   "cell_type": "markdown",
   "metadata": {},
   "source": [
    "- 1\n",
    "![](../Photo/121.png)"
   ]
  },
  {
   "cell_type": "code",
   "execution_count": 7,
   "metadata": {},
   "outputs": [
    {
     "name": "stdout",
     "output_type": "stream",
     "text": [
      "请输入成绩55\n",
      "成绩 55 等级 B\n"
     ]
    }
   ],
   "source": [
    "d=eval(input('请输入成绩'))\n",
    "c=[40,55,70,58]\n",
    "if d>=max(c)-10:\n",
    "    print('成绩',d,'等级','A')\n",
    "elif d>=max(c)-20:\n",
    "    print('成绩',d,'等级','B')\n",
    "elif d>=max(c)-30:\n",
    "    print('成绩',d,'等级','C')\n",
    "elif d>=max(c)-40:\n",
    "    print('成绩',d,'等级','D')\n",
    "else:\n",
    "    print('成绩',d,'等级','F')"
   ]
  },
  {
   "cell_type": "markdown",
   "metadata": {},
   "source": [
    "- 2\n",
    "![](../Photo/122.png)"
   ]
  },
  {
   "cell_type": "code",
   "execution_count": 11,
   "metadata": {},
   "outputs": [
    {
     "data": {
      "text/plain": [
       "[6, 5, 4, 3, 2, 1]"
      ]
     },
     "execution_count": 11,
     "metadata": {},
     "output_type": "execute_result"
    }
   ],
   "source": [
    "a=[1,2,3,4,5,6]\n",
    "a.reverse()\n",
    "a"
   ]
  },
  {
   "cell_type": "markdown",
   "metadata": {},
   "source": [
    "- 3\n",
    "![](../Photo/123.png)"
   ]
  },
  {
   "cell_type": "code",
   "execution_count": 23,
   "metadata": {},
   "outputs": [
    {
     "name": "stdout",
     "output_type": "stream",
     "text": [
      "2出现 2 次\n",
      "3出现 1 次\n",
      "4出现 1 次\n",
      "5出现 2 次\n",
      "6出现 1 次\n",
      "23出现 1 次\n",
      "43出现 1 次\n"
     ]
    }
   ],
   "source": [
    "c=[2,5,6,5,4,3,23,43,2]\n",
    "print('2出现',c.count(2),'次')\n",
    "print('3出现',c.count(3),'次')\n",
    "print('4出现',c.count(4),'次')\n",
    "print('5出现',c.count(5),'次')\n",
    "print('6出现',c.count(6),'次')\n",
    "print('23出现',c.count(23),'次')\n",
    "print('43出现',c.count(43),'次')"
   ]
  },
  {
   "cell_type": "markdown",
   "metadata": {},
   "source": [
    "- 4\n",
    "![](../Photo/124.png)"
   ]
  },
  {
   "cell_type": "code",
   "execution_count": 30,
   "metadata": {},
   "outputs": [
    {
     "name": "stdout",
     "output_type": "stream",
     "text": [
      "大于平均数的有： 2 小于平均数的有： 3\n"
     ]
    }
   ],
   "source": [
    "\n",
    "a=[80,70,90,60,65]\n",
    "dayu=0\n",
    "xiaoyu=0\n",
    "for i in a:\n",
    "    avd=sum(a) /len(a)\n",
    "    if i>avd:\n",
    "        dayu +=1\n",
    "    if i<avd:\n",
    "        xiaoyu +=1\n",
    "print('大于平均数的有：',dayu,'小于平均数的有：',xiaoyu)\n",
    "\n",
    "        \n",
    "        \n",
    "    \n",
    "    "
   ]
  },
  {
   "cell_type": "markdown",
   "metadata": {},
   "source": [
    "- 5\n",
    "![](../Photo/125.png)"
   ]
  },
  {
   "cell_type": "code",
   "execution_count": 31,
   "metadata": {},
   "outputs": [],
   "source": [
    "import random"
   ]
  },
  {
   "cell_type": "code",
   "execution_count": 35,
   "metadata": {},
   "outputs": [
    {
     "name": "stdout",
     "output_type": "stream",
     "text": [
      "3 出现 89\n",
      "3 出现 89\n",
      "3 出现 96\n",
      "3 出现 89\n",
      "3 出现 101\n",
      "3 出现 90\n",
      "3 出现 102\n",
      "3 出现 116\n",
      "3 出现 101\n",
      "3 出现 89\n",
      "3 出现 101\n",
      "3 出现 116\n",
      "3 出现 101\n",
      "3 出现 93\n",
      "3 出现 117\n",
      "3 出现 93\n",
      "3 出现 96\n",
      "3 出现 117\n",
      "3 出现 93\n",
      "3 出现 95\n",
      "3 出现 116\n",
      "3 出现 93\n",
      "3 出现 96\n",
      "3 出现 102\n",
      "3 出现 102\n",
      "3 出现 89\n",
      "3 出现 93\n",
      "3 出现 102\n",
      "3 出现 89\n",
      "3 出现 90\n",
      "3 出现 117\n",
      "3 出现 96\n",
      "3 出现 90\n",
      "3 出现 95\n",
      "3 出现 96\n",
      "3 出现 89\n",
      "3 出现 101\n",
      "3 出现 95\n",
      "3 出现 102\n",
      "3 出现 96\n",
      "3 出现 116\n",
      "3 出现 95\n",
      "3 出现 96\n",
      "3 出现 102\n",
      "3 出现 117\n",
      "3 出现 117\n",
      "3 出现 101\n",
      "3 出现 101\n",
      "3 出现 117\n",
      "3 出现 101\n",
      "3 出现 96\n",
      "3 出现 117\n",
      "3 出现 89\n",
      "3 出现 101\n",
      "3 出现 95\n",
      "3 出现 90\n",
      "3 出现 90\n",
      "3 出现 93\n",
      "3 出现 101\n",
      "3 出现 93\n",
      "3 出现 101\n",
      "3 出现 116\n",
      "3 出现 101\n",
      "3 出现 89\n",
      "3 出现 102\n",
      "3 出现 96\n",
      "3 出现 117\n",
      "3 出现 101\n",
      "3 出现 101\n",
      "3 出现 101\n",
      "3 出现 116\n",
      "3 出现 93\n",
      "3 出现 102\n",
      "3 出现 116\n",
      "3 出现 90\n",
      "3 出现 89\n",
      "3 出现 96\n",
      "3 出现 95\n",
      "3 出现 117\n",
      "3 出现 89\n",
      "3 出现 95\n",
      "3 出现 101\n",
      "3 出现 101\n",
      "3 出现 101\n",
      "3 出现 101\n",
      "3 出现 95\n",
      "3 出现 96\n",
      "3 出现 101\n",
      "3 出现 101\n",
      "3 出现 90\n",
      "3 出现 117\n",
      "3 出现 101\n",
      "3 出现 90\n",
      "3 出现 116\n",
      "3 出现 102\n",
      "3 出现 101\n",
      "3 出现 101\n",
      "3 出现 117\n",
      "3 出现 89\n",
      "3 出现 116\n",
      "3 出现 117\n",
      "3 出现 101\n",
      "3 出现 95\n",
      "3 出现 89\n",
      "3 出现 95\n",
      "3 出现 96\n",
      "3 出现 101\n",
      "3 出现 101\n",
      "3 出现 102\n",
      "3 出现 101\n",
      "3 出现 117\n",
      "3 出现 89\n",
      "3 出现 96\n",
      "3 出现 117\n",
      "3 出现 95\n",
      "3 出现 116\n",
      "3 出现 116\n",
      "3 出现 90\n",
      "3 出现 96\n",
      "3 出现 89\n",
      "3 出现 101\n",
      "3 出现 117\n",
      "3 出现 93\n",
      "3 出现 116\n",
      "3 出现 101\n",
      "3 出现 101\n",
      "3 出现 89\n",
      "3 出现 116\n",
      "3 出现 101\n",
      "3 出现 117\n",
      "3 出现 101\n",
      "3 出现 117\n",
      "3 出现 101\n",
      "3 出现 93\n",
      "3 出现 95\n",
      "3 出现 116\n",
      "3 出现 89\n",
      "3 出现 101\n",
      "3 出现 90\n",
      "3 出现 93\n",
      "3 出现 101\n",
      "3 出现 117\n",
      "3 出现 101\n",
      "3 出现 102\n",
      "3 出现 93\n",
      "3 出现 102\n",
      "3 出现 95\n",
      "3 出现 95\n",
      "3 出现 90\n",
      "3 出现 101\n",
      "3 出现 101\n",
      "3 出现 90\n",
      "3 出现 95\n",
      "3 出现 90\n",
      "3 出现 101\n",
      "3 出现 89\n",
      "3 出现 96\n",
      "3 出现 90\n",
      "3 出现 101\n",
      "3 出现 89\n",
      "3 出现 89\n",
      "3 出现 96\n",
      "3 出现 89\n",
      "3 出现 95\n",
      "3 出现 101\n",
      "3 出现 89\n",
      "3 出现 101\n",
      "3 出现 117\n",
      "3 出现 93\n",
      "3 出现 96\n",
      "3 出现 93\n",
      "3 出现 96\n",
      "3 出现 93\n",
      "3 出现 96\n",
      "3 出现 95\n",
      "3 出现 117\n",
      "3 出现 90\n",
      "3 出现 89\n",
      "3 出现 93\n",
      "3 出现 90\n",
      "3 出现 89\n",
      "3 出现 116\n",
      "3 出现 101\n",
      "3 出现 102\n",
      "3 出现 93\n",
      "3 出现 101\n",
      "3 出现 89\n",
      "3 出现 102\n",
      "3 出现 101\n",
      "3 出现 102\n",
      "3 出现 93\n",
      "3 出现 93\n",
      "3 出现 89\n",
      "3 出现 96\n",
      "3 出现 90\n",
      "3 出现 116\n",
      "3 出现 96\n",
      "3 出现 89\n",
      "3 出现 117\n",
      "3 出现 89\n",
      "3 出现 90\n",
      "3 出现 101\n",
      "3 出现 93\n",
      "3 出现 117\n",
      "3 出现 89\n",
      "3 出现 95\n",
      "3 出现 101\n",
      "3 出现 95\n",
      "3 出现 116\n",
      "3 出现 117\n",
      "3 出现 101\n",
      "3 出现 89\n",
      "3 出现 116\n",
      "3 出现 93\n",
      "3 出现 117\n",
      "3 出现 101\n",
      "3 出现 90\n",
      "3 出现 96\n",
      "3 出现 116\n",
      "3 出现 89\n",
      "3 出现 90\n",
      "3 出现 117\n",
      "3 出现 116\n",
      "3 出现 93\n",
      "3 出现 90\n",
      "3 出现 89\n",
      "3 出现 93\n",
      "3 出现 101\n",
      "3 出现 117\n",
      "3 出现 116\n",
      "3 出现 117\n",
      "3 出现 93\n",
      "3 出现 96\n",
      "3 出现 96\n",
      "3 出现 101\n",
      "3 出现 90\n",
      "3 出现 101\n",
      "3 出现 93\n",
      "3 出现 93\n",
      "3 出现 102\n",
      "3 出现 117\n",
      "3 出现 96\n",
      "3 出现 95\n",
      "3 出现 96\n",
      "3 出现 93\n",
      "3 出现 96\n",
      "3 出现 102\n",
      "3 出现 101\n",
      "3 出现 96\n",
      "3 出现 117\n",
      "3 出现 95\n",
      "3 出现 95\n",
      "3 出现 96\n",
      "3 出现 90\n",
      "3 出现 96\n",
      "3 出现 101\n",
      "3 出现 93\n",
      "3 出现 101\n",
      "3 出现 102\n",
      "3 出现 101\n",
      "3 出现 117\n",
      "3 出现 90\n",
      "3 出现 117\n",
      "3 出现 101\n",
      "3 出现 95\n",
      "3 出现 101\n",
      "3 出现 116\n",
      "3 出现 93\n",
      "3 出现 102\n",
      "3 出现 93\n",
      "3 出现 117\n",
      "3 出现 95\n",
      "3 出现 96\n",
      "3 出现 96\n",
      "3 出现 102\n",
      "3 出现 90\n",
      "3 出现 101\n",
      "3 出现 116\n",
      "3 出现 101\n",
      "3 出现 117\n",
      "3 出现 117\n",
      "3 出现 117\n",
      "3 出现 89\n",
      "3 出现 102\n",
      "3 出现 96\n",
      "3 出现 102\n",
      "3 出现 116\n",
      "3 出现 102\n",
      "3 出现 95\n",
      "3 出现 116\n",
      "3 出现 116\n",
      "3 出现 116\n",
      "3 出现 116\n",
      "3 出现 89\n",
      "3 出现 89\n",
      "3 出现 96\n",
      "3 出现 90\n",
      "3 出现 101\n",
      "3 出现 93\n",
      "3 出现 90\n",
      "3 出现 101\n",
      "3 出现 101\n",
      "3 出现 96\n",
      "3 出现 93\n",
      "3 出现 101\n",
      "3 出现 96\n",
      "3 出现 90\n",
      "3 出现 102\n",
      "3 出现 90\n",
      "3 出现 117\n",
      "3 出现 101\n",
      "3 出现 117\n",
      "3 出现 96\n",
      "3 出现 101\n",
      "3 出现 96\n",
      "3 出现 95\n",
      "3 出现 101\n",
      "3 出现 90\n",
      "3 出现 101\n",
      "3 出现 102\n",
      "3 出现 101\n",
      "3 出现 117\n",
      "3 出现 101\n",
      "3 出现 89\n",
      "3 出现 90\n",
      "3 出现 116\n",
      "3 出现 102\n",
      "3 出现 89\n",
      "3 出现 101\n",
      "3 出现 93\n",
      "3 出现 101\n",
      "3 出现 90\n",
      "3 出现 95\n",
      "3 出现 101\n",
      "3 出现 90\n",
      "3 出现 96\n",
      "3 出现 102\n",
      "3 出现 101\n",
      "3 出现 93\n",
      "3 出现 117\n",
      "3 出现 117\n",
      "3 出现 101\n",
      "3 出现 102\n",
      "3 出现 89\n",
      "3 出现 95\n",
      "3 出现 89\n",
      "3 出现 117\n",
      "3 出现 101\n",
      "3 出现 95\n",
      "3 出现 101\n",
      "3 出现 117\n",
      "3 出现 117\n",
      "3 出现 89\n",
      "3 出现 101\n",
      "3 出现 89\n",
      "3 出现 102\n",
      "3 出现 95\n",
      "3 出现 117\n",
      "3 出现 96\n",
      "3 出现 95\n",
      "3 出现 116\n",
      "3 出现 102\n",
      "3 出现 116\n",
      "3 出现 101\n",
      "3 出现 116\n",
      "3 出现 95\n",
      "3 出现 90\n",
      "3 出现 95\n",
      "3 出现 95\n",
      "3 出现 117\n",
      "3 出现 101\n",
      "3 出现 102\n",
      "3 出现 102\n",
      "3 出现 90\n",
      "3 出现 93\n",
      "3 出现 102\n",
      "3 出现 101\n",
      "3 出现 95\n",
      "3 出现 89\n",
      "3 出现 89\n",
      "3 出现 116\n",
      "3 出现 101\n",
      "3 出现 93\n",
      "3 出现 93\n",
      "3 出现 116\n",
      "3 出现 101\n",
      "3 出现 101\n",
      "3 出现 89\n",
      "3 出现 96\n",
      "3 出现 95\n",
      "3 出现 116\n",
      "3 出现 117\n",
      "3 出现 93\n",
      "3 出现 95\n",
      "3 出现 101\n",
      "3 出现 101\n",
      "3 出现 96\n",
      "3 出现 101\n",
      "3 出现 93\n",
      "3 出现 96\n",
      "3 出现 117\n",
      "3 出现 95\n",
      "3 出现 102\n",
      "3 出现 117\n",
      "3 出现 102\n",
      "3 出现 95\n",
      "3 出现 101\n",
      "3 出现 101\n",
      "3 出现 101\n",
      "3 出现 102\n",
      "3 出现 117\n",
      "3 出现 90\n",
      "3 出现 95\n",
      "3 出现 89\n",
      "3 出现 102\n",
      "3 出现 93\n",
      "3 出现 96\n",
      "3 出现 89\n",
      "3 出现 90\n",
      "3 出现 90\n",
      "3 出现 96\n",
      "3 出现 101\n",
      "3 出现 101\n",
      "3 出现 117\n",
      "3 出现 90\n",
      "3 出现 116\n",
      "3 出现 93\n",
      "3 出现 93\n",
      "3 出现 96\n",
      "3 出现 101\n",
      "3 出现 90\n",
      "3 出现 96\n",
      "3 出现 116\n",
      "3 出现 117\n",
      "3 出现 102\n",
      "3 出现 102\n",
      "3 出现 93\n",
      "3 出现 102\n",
      "3 出现 116\n",
      "3 出现 90\n",
      "3 出现 102\n",
      "3 出现 117\n",
      "3 出现 117\n",
      "3 出现 90\n",
      "3 出现 89\n",
      "3 出现 117\n",
      "3 出现 116\n",
      "3 出现 95\n",
      "3 出现 95\n",
      "3 出现 116\n",
      "3 出现 96\n",
      "3 出现 117\n",
      "3 出现 117\n",
      "3 出现 117\n",
      "3 出现 102\n",
      "3 出现 90\n",
      "3 出现 101\n",
      "3 出现 93\n",
      "3 出现 93\n",
      "3 出现 89\n",
      "3 出现 102\n",
      "3 出现 101\n",
      "3 出现 102\n",
      "3 出现 102\n",
      "3 出现 116\n",
      "3 出现 95\n",
      "3 出现 89\n",
      "3 出现 95\n",
      "3 出现 102\n",
      "3 出现 96\n",
      "3 出现 102\n",
      "3 出现 90\n",
      "3 出现 90\n",
      "3 出现 89\n",
      "3 出现 93\n",
      "3 出现 117\n",
      "3 出现 96\n",
      "3 出现 101\n",
      "3 出现 102\n",
      "3 出现 96\n",
      "3 出现 102\n",
      "3 出现 116\n",
      "3 出现 95\n",
      "3 出现 90\n",
      "3 出现 117\n",
      "3 出现 95\n",
      "3 出现 101\n",
      "3 出现 101\n",
      "3 出现 102\n",
      "3 出现 95\n",
      "3 出现 117\n",
      "3 出现 102\n",
      "3 出现 116\n",
      "3 出现 95\n",
      "3 出现 95\n",
      "3 出现 90\n",
      "3 出现 101\n",
      "3 出现 117\n",
      "3 出现 93\n",
      "3 出现 101\n",
      "3 出现 89\n",
      "3 出现 95\n",
      "3 出现 93\n",
      "3 出现 117\n",
      "3 出现 95\n",
      "3 出现 89\n",
      "3 出现 95\n",
      "3 出现 95\n",
      "3 出现 89\n",
      "3 出现 93\n",
      "3 出现 89\n",
      "3 出现 102\n",
      "3 出现 96\n",
      "3 出现 101\n",
      "3 出现 89\n",
      "3 出现 101\n",
      "3 出现 89\n",
      "3 出现 116\n",
      "3 出现 96\n",
      "3 出现 93\n",
      "3 出现 90\n",
      "3 出现 101\n",
      "3 出现 116\n",
      "3 出现 102\n",
      "3 出现 117\n",
      "3 出现 117\n",
      "3 出现 116\n",
      "3 出现 101\n",
      "3 出现 101\n",
      "3 出现 93\n",
      "3 出现 96\n",
      "3 出现 96\n",
      "3 出现 96\n",
      "3 出现 101\n",
      "3 出现 95\n",
      "3 出现 101\n",
      "3 出现 101\n",
      "3 出现 96\n",
      "3 出现 102\n",
      "3 出现 116\n",
      "3 出现 101\n",
      "3 出现 90\n",
      "3 出现 101\n",
      "3 出现 116\n",
      "3 出现 102\n",
      "3 出现 116\n",
      "3 出现 96\n",
      "3 出现 117\n",
      "3 出现 101\n",
      "3 出现 90\n",
      "3 出现 95\n",
      "3 出现 101\n",
      "3 出现 96\n",
      "3 出现 102\n",
      "3 出现 102\n",
      "3 出现 102\n",
      "3 出现 89\n",
      "3 出现 117\n",
      "3 出现 116\n",
      "3 出现 116\n",
      "3 出现 101\n",
      "3 出现 95\n",
      "3 出现 95\n",
      "3 出现 90\n",
      "3 出现 95\n",
      "3 出现 102\n",
      "3 出现 90\n",
      "3 出现 116\n",
      "3 出现 117\n",
      "3 出现 101\n",
      "3 出现 101\n",
      "3 出现 90\n",
      "3 出现 90\n",
      "3 出现 116\n",
      "3 出现 117\n",
      "3 出现 116\n",
      "3 出现 101\n",
      "3 出现 101\n",
      "3 出现 101\n",
      "3 出现 90\n",
      "3 出现 116\n",
      "3 出现 95\n",
      "3 出现 116\n",
      "3 出现 116\n",
      "3 出现 89\n",
      "3 出现 102\n",
      "3 出现 89\n",
      "3 出现 116\n",
      "3 出现 90\n",
      "3 出现 116\n",
      "3 出现 102\n",
      "3 出现 116\n",
      "3 出现 89\n",
      "3 出现 89\n",
      "3 出现 96\n",
      "3 出现 96\n",
      "3 出现 90\n",
      "3 出现 116\n",
      "3 出现 96\n",
      "3 出现 95\n",
      "3 出现 102\n",
      "3 出现 96\n",
      "3 出现 117\n",
      "3 出现 116\n",
      "3 出现 102\n",
      "3 出现 102\n",
      "3 出现 95\n",
      "3 出现 116\n",
      "3 出现 93\n",
      "3 出现 95\n",
      "3 出现 116\n",
      "3 出现 117\n",
      "3 出现 95\n",
      "3 出现 90\n",
      "3 出现 116\n",
      "3 出现 89\n",
      "3 出现 101\n",
      "3 出现 95\n",
      "3 出现 101\n",
      "3 出现 96\n",
      "3 出现 117\n",
      "3 出现 101\n",
      "3 出现 102\n",
      "3 出现 116\n",
      "3 出现 102\n",
      "3 出现 89\n",
      "3 出现 96\n",
      "3 出现 101\n",
      "3 出现 101\n",
      "3 出现 96\n",
      "3 出现 102\n",
      "3 出现 116\n",
      "3 出现 101\n",
      "3 出现 93\n",
      "3 出现 93\n",
      "3 出现 101\n",
      "3 出现 96\n",
      "3 出现 117\n",
      "3 出现 95\n",
      "3 出现 96\n",
      "3 出现 116\n",
      "3 出现 89\n",
      "3 出现 93\n",
      "3 出现 95\n",
      "3 出现 116\n",
      "3 出现 93\n",
      "3 出现 101\n",
      "3 出现 93\n",
      "3 出现 90\n",
      "3 出现 93\n",
      "3 出现 95\n",
      "3 出现 116\n",
      "3 出现 102\n",
      "3 出现 95\n",
      "3 出现 95\n",
      "3 出现 117\n",
      "3 出现 117\n",
      "3 出现 116\n",
      "3 出现 117\n",
      "3 出现 101\n",
      "3 出现 102\n",
      "3 出现 90\n",
      "3 出现 102\n",
      "3 出现 102\n",
      "3 出现 116\n",
      "3 出现 96\n",
      "3 出现 101\n",
      "3 出现 117\n",
      "3 出现 116\n",
      "3 出现 95\n",
      "3 出现 117\n",
      "3 出现 102\n",
      "3 出现 116\n",
      "3 出现 116\n",
      "3 出现 102\n",
      "3 出现 90\n",
      "3 出现 89\n",
      "3 出现 93\n",
      "3 出现 90\n",
      "3 出现 89\n",
      "3 出现 95\n",
      "3 出现 102\n",
      "3 出现 101\n",
      "3 出现 116\n",
      "3 出现 101\n",
      "3 出现 95\n",
      "3 出现 89\n",
      "3 出现 101\n",
      "3 出现 117\n",
      "3 出现 117\n",
      "3 出现 101\n",
      "3 出现 102\n",
      "3 出现 101\n",
      "3 出现 90\n",
      "3 出现 116\n",
      "3 出现 101\n",
      "3 出现 89\n",
      "3 出现 90\n",
      "3 出现 93\n",
      "3 出现 96\n",
      "3 出现 89\n",
      "3 出现 117\n",
      "3 出现 101\n",
      "3 出现 89\n",
      "3 出现 96\n",
      "3 出现 117\n",
      "3 出现 95\n",
      "3 出现 116\n",
      "3 出现 116\n",
      "3 出现 116\n",
      "3 出现 96\n",
      "3 出现 101\n",
      "3 出现 90\n",
      "3 出现 116\n",
      "3 出现 101\n",
      "3 出现 90\n",
      "3 出现 95\n",
      "3 出现 117\n",
      "3 出现 101\n",
      "3 出现 93\n",
      "3 出现 95\n",
      "3 出现 93\n",
      "3 出现 95\n",
      "3 出现 93\n",
      "3 出现 95\n",
      "3 出现 95\n",
      "3 出现 95\n",
      "3 出现 117\n",
      "3 出现 93\n",
      "3 出现 93\n",
      "3 出现 117\n",
      "3 出现 116\n",
      "3 出现 101\n",
      "3 出现 93\n",
      "3 出现 101\n",
      "3 出现 93\n",
      "3 出现 90\n",
      "3 出现 89\n",
      "3 出现 116\n",
      "3 出现 101\n",
      "3 出现 102\n",
      "3 出现 116\n",
      "3 出现 90\n",
      "3 出现 96\n",
      "3 出现 116\n",
      "3 出现 101\n",
      "3 出现 116\n",
      "3 出现 89\n",
      "3 出现 96\n",
      "3 出现 96\n",
      "3 出现 89\n",
      "3 出现 101\n",
      "3 出现 93\n",
      "3 出现 101\n",
      "3 出现 117\n",
      "3 出现 89\n",
      "3 出现 117\n",
      "3 出现 95\n",
      "3 出现 96\n",
      "3 出现 93\n",
      "3 出现 117\n",
      "3 出现 102\n",
      "3 出现 90\n",
      "3 出现 93\n",
      "3 出现 102\n",
      "3 出现 101\n",
      "3 出现 96\n",
      "3 出现 93\n",
      "3 出现 101\n",
      "3 出现 116\n",
      "3 出现 101\n",
      "3 出现 89\n",
      "3 出现 95\n",
      "3 出现 90\n",
      "3 出现 101\n",
      "3 出现 101\n",
      "3 出现 95\n",
      "3 出现 101\n",
      "3 出现 117\n",
      "3 出现 101\n",
      "3 出现 93\n",
      "3 出现 102\n",
      "3 出现 101\n",
      "3 出现 93\n",
      "3 出现 116\n",
      "3 出现 102\n",
      "3 出现 93\n",
      "3 出现 90\n",
      "3 出现 117\n",
      "3 出现 116\n",
      "3 出现 116\n",
      "3 出现 89\n",
      "3 出现 96\n",
      "3 出现 101\n",
      "3 出现 96\n",
      "3 出现 101\n",
      "3 出现 101\n",
      "3 出现 116\n",
      "3 出现 101\n",
      "3 出现 101\n",
      "3 出现 95\n",
      "3 出现 116\n",
      "3 出现 89\n",
      "3 出现 116\n",
      "3 出现 101\n",
      "3 出现 117\n",
      "3 出现 90\n",
      "3 出现 117\n",
      "3 出现 93\n",
      "3 出现 89\n",
      "3 出现 116\n",
      "3 出现 93\n",
      "3 出现 117\n",
      "3 出现 101\n",
      "3 出现 101\n",
      "3 出现 117\n",
      "3 出现 89\n",
      "3 出现 117\n",
      "3 出现 117\n",
      "3 出现 101\n",
      "3 出现 95\n",
      "3 出现 90\n",
      "3 出现 101\n",
      "3 出现 95\n",
      "3 出现 90\n",
      "3 出现 116\n",
      "3 出现 95\n",
      "3 出现 101\n",
      "3 出现 101\n",
      "3 出现 89\n",
      "3 出现 96\n",
      "3 出现 96\n",
      "3 出现 101\n",
      "3 出现 96\n",
      "3 出现 117\n",
      "3 出现 93\n",
      "3 出现 93\n",
      "3 出现 101\n",
      "3 出现 117\n",
      "3 出现 101\n",
      "3 出现 89\n",
      "3 出现 116\n",
      "3 出现 116\n",
      "3 出现 96\n",
      "3 出现 93\n",
      "3 出现 116\n",
      "3 出现 101\n",
      "3 出现 95\n",
      "3 出现 117\n",
      "3 出现 117\n",
      "3 出现 117\n",
      "3 出现 90\n",
      "3 出现 116\n",
      "3 出现 102\n",
      "3 出现 93\n",
      "3 出现 93\n",
      "3 出现 117\n",
      "3 出现 96\n",
      "3 出现 93\n",
      "3 出现 93\n",
      "3 出现 101\n",
      "3 出现 95\n",
      "3 出现 117\n",
      "3 出现 101\n",
      "3 出现 96\n",
      "3 出现 116\n",
      "3 出现 90\n",
      "3 出现 102\n",
      "3 出现 117\n",
      "3 出现 90\n",
      "3 出现 101\n",
      "3 出现 117\n",
      "3 出现 102\n",
      "3 出现 89\n",
      "3 出现 96\n",
      "3 出现 117\n",
      "3 出现 96\n",
      "3 出现 102\n",
      "3 出现 101\n",
      "3 出现 96\n",
      "3 出现 96\n",
      "3 出现 95\n",
      "3 出现 117\n",
      "3 出现 116\n",
      "3 出现 101\n",
      "3 出现 117\n",
      "3 出现 101\n",
      "3 出现 101\n",
      "3 出现 116\n",
      "3 出现 101\n",
      "3 出现 116\n",
      "3 出现 101\n",
      "3 出现 117\n",
      "3 出现 102\n",
      "3 出现 96\n",
      "3 出现 117\n",
      "3 出现 95\n",
      "3 出现 117\n",
      "3 出现 93\n",
      "3 出现 101\n",
      "3 出现 93\n",
      "3 出现 102\n",
      "3 出现 93\n",
      "3 出现 93\n",
      "3 出现 102\n",
      "3 出现 89\n",
      "3 出现 102\n",
      "3 出现 90\n",
      "3 出现 102\n",
      "3 出现 96\n",
      "3 出现 96\n",
      "3 出现 117\n",
      "3 出现 116\n",
      "3 出现 102\n",
      "3 出现 101\n",
      "3 出现 116\n",
      "3 出现 102\n",
      "3 出现 116\n",
      "3 出现 101\n",
      "3 出现 101\n",
      "3 出现 90\n",
      "3 出现 116\n",
      "3 出现 101\n",
      "3 出现 89\n",
      "3 出现 101\n",
      "3 出现 95\n",
      "3 出现 101\n",
      "3 出现 96\n",
      "3 出现 116\n",
      "3 出现 116\n",
      "3 出现 102\n",
      "3 出现 89\n",
      "3 出现 90\n",
      "3 出现 93\n",
      "3 出现 117\n",
      "3 出现 90\n",
      "3 出现 101\n",
      "3 出现 93\n",
      "3 出现 90\n",
      "3 出现 90\n",
      "3 出现 116\n",
      "3 出现 90\n",
      "3 出现 102\n",
      "3 出现 102\n",
      "3 出现 89\n",
      "3 出现 101\n",
      "3 出现 116\n",
      "3 出现 117\n",
      "3 出现 101\n",
      "3 出现 102\n",
      "3 出现 116\n",
      "3 出现 96\n",
      "3 出现 95\n",
      "3 出现 90\n",
      "3 出现 101\n",
      "3 出现 116\n",
      "3 出现 102\n",
      "3 出现 89\n",
      "3 出现 90\n",
      "3 出现 90\n",
      "3 出现 116\n",
      "3 出现 101\n",
      "3 出现 101\n",
      "3 出现 102\n",
      "3 出现 101\n",
      "3 出现 101\n",
      "3 出现 116\n",
      "3 出现 101\n",
      "3 出现 102\n",
      "3 出现 96\n",
      "3 出现 101\n",
      "3 出现 117\n",
      "3 出现 96\n",
      "3 出现 101\n",
      "3 出现 101\n",
      "3 出现 102\n",
      "3 出现 95\n",
      "3 出现 90\n",
      "3 出现 101\n",
      "3 出现 117\n",
      "3 出现 102\n",
      "3 出现 117\n",
      "3 出现 101\n",
      "3 出现 117\n",
      "3 出现 95\n",
      "3 出现 93\n",
      "3 出现 89\n",
      "3 出现 93\n",
      "3 出现 101\n",
      "3 出现 93\n",
      "3 出现 93\n",
      "3 出现 90\n",
      "3 出现 90\n",
      "3 出现 95\n",
      "3 出现 102\n",
      "3 出现 89\n",
      "3 出现 116\n",
      "3 出现 102\n",
      "3 出现 101\n",
      "3 出现 101\n"
     ]
    }
   ],
   "source": [
    "x=[random.randint(0,9) for x in range(1000)]  #产生1000个随机数\n",
    "for b in x:\n",
    "    geshu =x.count(b)#计数\n",
    "    print(i,'出现',geshu)"
   ]
  },
  {
   "cell_type": "markdown",
   "metadata": {},
   "source": [
    "- 6\n",
    "![](../Photo/126.png)"
   ]
  },
  {
   "cell_type": "code",
   "execution_count": 38,
   "metadata": {},
   "outputs": [],
   "source": [
    "def min_():\n",
    "    a=[1,2,3,4,5,6,9]\n",
    "    d=a.index(min(a))\n",
    "    print(d)"
   ]
  },
  {
   "cell_type": "code",
   "execution_count": 39,
   "metadata": {},
   "outputs": [
    {
     "name": "stdout",
     "output_type": "stream",
     "text": [
      "0\n"
     ]
    }
   ],
   "source": [
    "min_()"
   ]
  },
  {
   "cell_type": "markdown",
   "metadata": {},
   "source": [
    "- 7\n",
    "![](../Photo/127.png)\n",
    "![](../Photo/128.png)"
   ]
  },
  {
   "cell_type": "code",
   "execution_count": null,
   "metadata": {},
   "outputs": [],
   "source": [
    "def shuffle():\n",
    "    "
   ]
  },
  {
   "cell_type": "markdown",
   "metadata": {},
   "source": [
    "- 8\n",
    "![](../Photo/129.png)"
   ]
  },
  {
   "cell_type": "code",
   "execution_count": 40,
   "metadata": {},
   "outputs": [],
   "source": [
    "def xiaochu():\n",
    "    a=[1,2,3,2,1,6,3,4,5,2]\n",
    "    list1=list(set(a))\n",
    "    print(list1)\n",
    "    "
   ]
  },
  {
   "cell_type": "code",
   "execution_count": 41,
   "metadata": {},
   "outputs": [
    {
     "name": "stdout",
     "output_type": "stream",
     "text": [
      "[1, 2, 3, 4, 5, 6]\n"
     ]
    }
   ],
   "source": [
    "xiaochu()"
   ]
  },
  {
   "cell_type": "markdown",
   "metadata": {},
   "source": [
    "- 9\n",
    "![](../Photo/130.png)"
   ]
  },
  {
   "cell_type": "code",
   "execution_count": 42,
   "metadata": {},
   "outputs": [],
   "source": [
    "def stor(list=[]):\n",
    "    lst=[1,1,3,4,4,5,7,9,10,30,11]\n",
    "    if list== lst.sort():\n",
    "        print('这个列表已经排好序')\n",
    "    else:\n",
    "        print('这个列表没有排好序')\n",
    "    "
   ]
  },
  {
   "cell_type": "code",
   "execution_count": 43,
   "metadata": {},
   "outputs": [
    {
     "name": "stdout",
     "output_type": "stream",
     "text": [
      "这个列表没有排好序\n"
     ]
    }
   ],
   "source": [
    "stor(list=[1,1,3,4,4,5,7,9,10,30,11])"
   ]
  },
  {
   "cell_type": "markdown",
   "metadata": {},
   "source": [
    "- 10\n",
    "![](../Photo/131.png)"
   ]
  },
  {
   "cell_type": "code",
   "execution_count": 44,
   "metadata": {},
   "outputs": [
    {
     "name": "stdout",
     "output_type": "stream",
     "text": [
      "[1, 2, 3, 4, 5, 6, 7, 8, 9, 15]\n"
     ]
    }
   ],
   "source": [
    "a=[1,2,3,6,8,7,4,5,9,15]\n",
    "for i in range(len(a)-1):\n",
    "    for j in range(len(a)-1-i):#-1一次锁定最大值\n",
    "        if a[j]>a[j+1]:\n",
    "            a[j],a[j+1]=a[j+1],a[j]\n",
    "print(a)"
   ]
  },
  {
   "cell_type": "markdown",
   "metadata": {},
   "source": [
    "- 11\n",
    "![](../Photo/132.png)"
   ]
  },
  {
   "cell_type": "code",
   "execution_count": null,
   "metadata": {},
   "outputs": [],
   "source": []
  },
  {
   "cell_type": "markdown",
   "metadata": {},
   "source": [
    "- 12\n",
    "![](../Photo/133.png)"
   ]
  },
  {
   "cell_type": "code",
   "execution_count": 48,
   "metadata": {},
   "outputs": [],
   "source": [
    "def four(list=[]):\n",
    "    count =1\n",
    "    for i in range(0,len(list)-1):\n",
    "        if list[i]==list[i+1]:\n",
    "            count +=1\n",
    "    if count==4:\n",
    "        print('有四个相同的连续数字')\n",
    "    else:\n",
    "        print('没有四个相同的连续数字')"
   ]
  },
  {
   "cell_type": "code",
   "execution_count": 49,
   "metadata": {},
   "outputs": [
    {
     "name": "stdout",
     "output_type": "stream",
     "text": [
      "有四个相同的连续数字\n"
     ]
    }
   ],
   "source": [
    "four(list=[2,3,4,4,4,4,5])"
   ]
  },
  {
   "cell_type": "code",
   "execution_count": 50,
   "metadata": {},
   "outputs": [
    {
     "name": "stdout",
     "output_type": "stream",
     "text": [
      "没有四个相同的连续数字\n"
     ]
    }
   ],
   "source": [
    "four(list=[1,2,5,8,6,7])"
   ]
  },
  {
   "cell_type": "code",
   "execution_count": null,
   "metadata": {},
   "outputs": [],
   "source": []
  }
 ],
 "metadata": {
  "kernelspec": {
   "display_name": "Python 3",
   "language": "python",
   "name": "python3"
  },
  "language_info": {
   "codemirror_mode": {
    "name": "ipython",
    "version": 3
   },
   "file_extension": ".py",
   "mimetype": "text/x-python",
   "name": "python",
   "nbconvert_exporter": "python",
   "pygments_lexer": "ipython3",
   "version": "3.7.3"
  }
 },
 "nbformat": 4,
 "nbformat_minor": 2
}
