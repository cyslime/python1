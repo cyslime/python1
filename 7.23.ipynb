{
 "cells": [
  {
   "cell_type": "markdown",
   "metadata": {},
   "source": [
    "##对象和类\n",
    "-学生，一张桌子，一个圆都是对象\n",
    "- 对象是类的一个实例，你可以创建多个对象，创建类的一个实例过程被称为实例化，\n",
    "- 在Python中对象就是实例，而实例就是对象"
   ]
  },
  {
   "cell_type": "markdown",
   "metadata": {},
   "source": [
    "## 定义类\n",
    "class ClassName:\n",
    "\n",
    "    do something\n",
    "    \n",
    "- class 类的表示与def 一样\n",
    "- 类名最好使用驼峰式\n",
    "- 在Python2中类是需要继承基类object的，在Python中默认继承，可写可不写\n",
    "- 可以将普通代码理解为皮肤，而函数可以理解为内衣，那么类可以理解为外套"
   ]
  },
  {
   "cell_type": "markdown",
   "metadata": {},
   "source": [
    "## 定义一个不含初始化__init__的简单类\n",
    "class ClassName:\n",
    "\n",
    "    joker = “Home”\n",
    "    \n",
    "    def func():\n",
    "        print('Worker')\n",
    "    \n",
    "- 尽量少使用"
   ]
  },
  {
   "cell_type": "markdown",
   "metadata": {},
   "source": [
    "\n",
    "\n",
    "## 定义一个标准类\n",
    "- __init__ 代表初始化，可以初始化任何动作\n",
    "- 此时类调用要使用()，其中（）可以理解为开始初始化\n",
    "- 初始化内的元素，类中其他的函数可以共享\n",
    "![](../Photo/85.png)"
   ]
  },
  {
   "cell_type": "code",
   "execution_count": 10,
   "metadata": {},
   "outputs": [],
   "source": [
    "#类必须初始化，使用self初始化被本身\n",
    "#类里面所有的函数中的所有变量不再是参数，而是一个印记\n",
    "#self 是个印记，不打印记调用不了\n",
    "#在类中如果有参数需要多次使用，那么就可以设置为共享参数\n",
    "class joker:\n",
    "    def __init__(self):\n",
    "        print('我初始化了')\n",
    "    def print_(self,name):\n",
    "        print('joker hahaa',name)"
   ]
  },
  {
   "cell_type": "code",
   "execution_count": 11,
   "metadata": {},
   "outputs": [
    {
     "name": "stdout",
     "output_type": "stream",
     "text": [
      "我初始化了\n"
     ]
    }
   ],
   "source": [
    "cy=joker()#()代表直接带走初始化函数，走init"
   ]
  },
  {
   "cell_type": "code",
   "execution_count": 12,
   "metadata": {},
   "outputs": [
    {
     "name": "stdout",
     "output_type": "stream",
     "text": [
      "joker hahaa cy\n"
     ]
    }
   ],
   "source": [
    "cy.print_(name='cy')"
   ]
  },
  {
   "cell_type": "code",
   "execution_count": 22,
   "metadata": {},
   "outputs": [],
   "source": [
    "class nian:\n",
    "    def __init__(self):\n",
    "        print('我初始化了')\n",
    "    def panduan_(self,num):\n",
    "        if num%2==0:\n",
    "            print('偶数')\n",
    "        else:\n",
    "            print('奇数')\n",
    "    def run_(self,num2):\n",
    "        if ((num2%4==0) and (num2%100!=0)) or(num2%400==0):\n",
    "            print('闰年')\n",
    "        else:\n",
    "            print('平年')\n",
    "        "
   ]
  },
  {
   "cell_type": "code",
   "execution_count": 23,
   "metadata": {},
   "outputs": [
    {
     "name": "stdout",
     "output_type": "stream",
     "text": [
      "我初始化了\n"
     ]
    }
   ],
   "source": [
    "cy=nian()"
   ]
  },
  {
   "cell_type": "code",
   "execution_count": 24,
   "metadata": {},
   "outputs": [
    {
     "name": "stdout",
     "output_type": "stream",
     "text": [
      "偶数\n"
     ]
    }
   ],
   "source": [
    "cy.panduan_(num=6)"
   ]
  },
  {
   "cell_type": "code",
   "execution_count": 25,
   "metadata": {},
   "outputs": [
    {
     "name": "stdout",
     "output_type": "stream",
     "text": [
      "闰年\n"
     ]
    }
   ],
   "source": [
    "cy.run_(num2=2012)"
   ]
  },
  {
   "cell_type": "markdown",
   "metadata": {},
   "source": [
    "- Circle 和 className_ 的第一个区别有 __init__ 这个函数\n",
    "- 。。。。   第二个区别，类中的每一个函数都有self的这个“参数”"
   ]
  },
  {
   "cell_type": "code",
   "execution_count": null,
   "metadata": {},
   "outputs": [],
   "source": []
  },
  {
   "cell_type": "markdown",
   "metadata": {},
   "source": [
    "## 何为self？\n",
    "- self 是指向对象本身的参数\n",
    "- self 只是一个命名规则，其实可以改变的，但是我们约定俗成的是self，也便于理解\n",
    "- 使用了self就可以访问类中定义的成员\n",
    "<img src=\"../Photo/86.png\"></img>"
   ]
  },
  {
   "cell_type": "markdown",
   "metadata": {},
   "source": [
    "## 使用类 Cirlcle"
   ]
  },
  {
   "cell_type": "markdown",
   "metadata": {},
   "source": [
    "## 类的传参\n",
    "- class ClassName:\n",
    "    \n",
    "        def __init__(self, para1,para2...)：\n",
    "            \n",
    "            self.para1 = para1\n",
    "            \n",
    "            self.para2 = para2"
   ]
  },
  {
   "cell_type": "markdown",
   "metadata": {},
   "source": [
    "## EP:\n",
    "- A：定义一个类，类中含有两个功能：\n",
    "    - 1、产生3个随机数，获取最大值\n",
    "    - 2、产生3个随机数，获取最小值\n",
    "- B：定义一个类，（类中函数的嵌套使用）\n",
    "    - 1、第一个函数的功能为：输入一个数字\n",
    "    - 2、第二个函数的功能为：使用第一个函数中得到的数字进行平方处理\n",
    "    - 3、第三个函数的功能为：得到平方处理后的数字 - 原来输入的数字，并打印结果"
   ]
  },
  {
   "cell_type": "code",
   "execution_count": 31,
   "metadata": {},
   "outputs": [],
   "source": [
    "import random"
   ]
  },
  {
   "cell_type": "code",
   "execution_count": 43,
   "metadata": {},
   "outputs": [],
   "source": [
    "class gongneng():\n",
    "    def __init__(self):\n",
    "        print('我初始化了')\n",
    "    def max_(self):\n",
    "        num=random.randint(1,10)\n",
    "        num1=random.randint(1,10)\n",
    "        num2=random.randint(1,10)\n",
    "        print(num,num1,num2)\n",
    "        if num>num1 and num>num2:\n",
    "            print(num)\n",
    "        if num1>num and num1>num2:\n",
    "            print(num1)\n",
    "        if num2>num and num2>num1:\n",
    "            print(num2)\n",
    "    def min_(self):\n",
    "        num=random.randint(1,10)\n",
    "        num1=random.randint(1,10)\n",
    "        num2=random.randint(1,10)\n",
    "        print(num,num1,num2,)\n",
    "        if num<num1 and num<num2:\n",
    "            print(num)\n",
    "        if num1<num and num1<num2:\n",
    "            print(num1)\n",
    "        if num2<num and num2<num1:\n",
    "            print(num2)\n",
    "        \n",
    "        "
   ]
  },
  {
   "cell_type": "code",
   "execution_count": 44,
   "metadata": {},
   "outputs": [
    {
     "name": "stdout",
     "output_type": "stream",
     "text": [
      "我初始化了\n"
     ]
    }
   ],
   "source": [
    "pan=gongneng()"
   ]
  },
  {
   "cell_type": "code",
   "execution_count": 45,
   "metadata": {},
   "outputs": [
    {
     "name": "stdout",
     "output_type": "stream",
     "text": [
      "2 5 9\n",
      "9\n"
     ]
    }
   ],
   "source": [
    "pan.max_()"
   ]
  },
  {
   "cell_type": "code",
   "execution_count": 46,
   "metadata": {},
   "outputs": [
    {
     "name": "stdout",
     "output_type": "stream",
     "text": [
      "4 2 6\n",
      "2\n"
     ]
    }
   ],
   "source": [
    "pan.min_()"
   ]
  },
  {
   "cell_type": "code",
   "execution_count": 56,
   "metadata": {},
   "outputs": [],
   "source": [
    "class shu:\n",
    "    def __init__(self,n):\n",
    "        print('初始了')\n",
    "        self.n=n\n",
    "        print(self.n)\n",
    "    def chu(self):\n",
    "        return self.n\n",
    "    def pingfa(self):\n",
    "        return self.n**2\n",
    "    def cha(self):\n",
    "        return self.n**2 - self.n\n",
    "        "
   ]
  },
  {
   "cell_type": "code",
   "execution_count": 58,
   "metadata": {},
   "outputs": [
    {
     "name": "stdout",
     "output_type": "stream",
     "text": [
      "初始了\n",
      "6\n"
     ]
    }
   ],
   "source": [
    "a=shu(n=6)"
   ]
  },
  {
   "cell_type": "code",
   "execution_count": 60,
   "metadata": {},
   "outputs": [
    {
     "data": {
      "text/plain": [
       "6"
      ]
     },
     "execution_count": 60,
     "metadata": {},
     "output_type": "execute_result"
    }
   ],
   "source": [
    "a.chu()"
   ]
  },
  {
   "cell_type": "code",
   "execution_count": 61,
   "metadata": {},
   "outputs": [
    {
     "data": {
      "text/plain": [
       "36"
      ]
     },
     "execution_count": 61,
     "metadata": {},
     "output_type": "execute_result"
    }
   ],
   "source": [
    "a.pingfa()"
   ]
  },
  {
   "cell_type": "code",
   "execution_count": 62,
   "metadata": {},
   "outputs": [
    {
     "data": {
      "text/plain": [
       "30"
      ]
     },
     "execution_count": 62,
     "metadata": {},
     "output_type": "execute_result"
    }
   ],
   "source": [
    "a.cha()"
   ]
  },
  {
   "cell_type": "markdown",
   "metadata": {},
   "source": [
    "qq登录"
   ]
  },
  {
   "cell_type": "code",
   "execution_count": null,
   "metadata": {},
   "outputs": [],
   "source": [
    "import random"
   ]
  },
  {
   "cell_type": "code",
   "execution_count": 74,
   "metadata": {},
   "outputs": [],
   "source": [
    "class q:\n",
    "    def __init__(self):\n",
    "        print('初始化')\n",
    "    def hao(self):\n",
    "        a=input('请输入账号')\n",
    "    def nima(self):\n",
    "        b=input('请输入密码')\n",
    "        if b==123 and a==123:\n",
    "            print('登陆成功')\n",
    "        else:\n",
    "            print('登陆失败,账号或密码错误')\n",
    "        def v(self):\n",
    "            c=random.randint(1000,9999)\n",
    "            print(c)\n",
    "            while 1:\n",
    "                user_v=input('请输入验证码')\n",
    "                if c==user_v:\n",
    "                    print('失败')\n",
    "                    break\n",
    "    def start(self):\n",
    "        self.hao()\n",
    "        self.nima()\n",
    "        self.v()\n",
    "            \n",
    "                \n",
    "            \n",
    "            "
   ]
  },
  {
   "cell_type": "code",
   "execution_count": 75,
   "metadata": {},
   "outputs": [
    {
     "name": "stdout",
     "output_type": "stream",
     "text": [
      "初始化\n"
     ]
    }
   ],
   "source": [
    "a=q()"
   ]
  },
  {
   "cell_type": "code",
   "execution_count": 76,
   "metadata": {},
   "outputs": [
    {
     "name": "stdout",
     "output_type": "stream",
     "text": [
      "请输入账号123\n"
     ]
    }
   ],
   "source": [
    "a.hao()"
   ]
  },
  {
   "cell_type": "markdown",
   "metadata": {},
   "source": [
    "## 类的继承\n",
    "- 类的单继承\n",
    "- 类的多继承\n",
    "- 继承标识\n",
    ">  class SonClass(FatherClass):\n",
    "            \n",
    "            def __init__(self):\n",
    "            \n",
    "                FatherClass.__init__(self)"
   ]
  },
  {
   "cell_type": "code",
   "execution_count": 1,
   "metadata": {},
   "outputs": [],
   "source": [
    "#多继承自左向右，自上向下\n",
    "#私有变量不可继承，也不可被外部调用，内部可以使用\n",
    "class A:\n",
    "    def __init__(self):\n",
    "        self.a='a'\n",
    "    def a_(self):\n",
    "        print('class A')\n",
    "class B(A):\n",
    "    def __init__(self):\n",
    "        #告诉A,B即将继承A\n",
    "        A.__init__(self)\n",
    "    def b_(self):\n",
    "        print(self.a)\n",
    "        self.a_()"
   ]
  },
  {
   "cell_type": "code",
   "execution_count": 2,
   "metadata": {},
   "outputs": [],
   "source": [
    "bb=B()"
   ]
  },
  {
   "cell_type": "code",
   "execution_count": 3,
   "metadata": {},
   "outputs": [
    {
     "name": "stdout",
     "output_type": "stream",
     "text": [
      "a\n",
      "class A\n"
     ]
    }
   ],
   "source": [
    "bb.b_()"
   ]
  },
  {
   "cell_type": "code",
   "execution_count": null,
   "metadata": {},
   "outputs": [],
   "source": []
  },
  {
   "cell_type": "code",
   "execution_count": null,
   "metadata": {},
   "outputs": [],
   "source": []
  },
  {
   "cell_type": "code",
   "execution_count": null,
   "metadata": {},
   "outputs": [],
   "source": []
  },
  {
   "cell_type": "markdown",
   "metadata": {},
   "source": [
    "## 私有数据域(私有变量，或者私有函数)\n",
    "- 在Python中 变量名或者函数名使用双下划线代表私有  \\__Joker,   def \\__Joker():\n",
    "- 私有数据域不可继承\n",
    "- 私有数据域强制继承   \\__dir__()"
   ]
  },
  {
   "cell_type": "markdown",
   "metadata": {},
   "source": [
    "![](../Photo/87.png)"
   ]
  },
  {
   "cell_type": "markdown",
   "metadata": {},
   "source": [
    "## EP:\n",
    "![](../Photo/88.png)\n",
    "![](../Photo/89.png)\n",
    "![](../Photo/90.png)\n"
   ]
  },
  {
   "cell_type": "markdown",
   "metadata": {},
   "source": [
    "## 类的其他\n",
    "- 类的封装\n",
    "    - 实际上就是将一类功能放在一起，方便未来进行管理\n",
    "- 类的继承（上面已经讲过）\n",
    "- 类的多态\n",
    "    - 包括装饰器：将放在以后处理高级类中教\n",
    "    - 装饰器的好处：当许多类中的函数需要使用同一个功能的时候，那么使用装饰器就会方便许多\n",
    "    - 装饰器是有固定的写法\n",
    "        - 其包括普通装饰器与带参装饰器"
   ]
  },
  {
   "cell_type": "markdown",
   "metadata": {},
   "source": [
    "# Homewor\n",
    "## UML类图可以不用画\n",
    "## UML 实际上就是一个思维图\n",
    "- 1\n",
    "![](../Photo/91.png)"
   ]
  },
  {
   "cell_type": "code",
   "execution_count": 22,
   "metadata": {},
   "outputs": [],
   "source": [
    "class mianji:\n",
    "    def __init__(self)   #初始化\n",
    "        print('初始化')\n",
    "        self.width=1    #设置默认值\n",
    "        self.height=2\n",
    "    def area_(self):\n",
    "        return self.width *self.height     #求的面积\n",
    "    def zhouchang_(self):\n",
    "        return (self.width + self.height)    #求的周长"
   ]
  },
  {
   "cell_type": "code",
   "execution_count": 23,
   "metadata": {},
   "outputs": [
    {
     "name": "stdout",
     "output_type": "stream",
     "text": [
      "初始化\n"
     ]
    }
   ],
   "source": [
    "a=mianji()"
   ]
  },
  {
   "cell_type": "code",
   "execution_count": 24,
   "metadata": {},
   "outputs": [
    {
     "data": {
      "text/plain": [
       "2"
      ]
     },
     "execution_count": 24,
     "metadata": {},
     "output_type": "execute_result"
    }
   ],
   "source": [
    "a.area_()"
   ]
  },
  {
   "cell_type": "code",
   "execution_count": 25,
   "metadata": {},
   "outputs": [
    {
     "data": {
      "text/plain": [
       "3"
      ]
     },
     "execution_count": 25,
     "metadata": {},
     "output_type": "execute_result"
    }
   ],
   "source": [
    "a.zhouchang_()"
   ]
  },
  {
   "cell_type": "markdown",
   "metadata": {},
   "source": [
    "- 2\n",
    "![](../Photo/92.png)"
   ]
  },
  {
   "cell_type": "code",
   "execution_count": 30,
   "metadata": {},
   "outputs": [],
   "source": [
    "class account:\n",
    "    def __init__(self):    #初始化\n",
    "        print('初始了')\n",
    "        self.id=1122\n",
    "        self.balance=20000      #设置默认值\n",
    "        self.rate=0.045\n",
    "        self.cun=2500\n",
    "        self.qu=3000\n",
    "    def monthlyrate(self):     #返回月利率\n",
    "        return self.rate/12\n",
    "    def interest(self):\n",
    "        return self.balance*self.rate   #返回月利息\n",
    "    def withdraw(self):\n",
    "        self.balance=self.balance + self.cun      #存钱\n",
    "        money=self.balance*self.rate\n",
    "        print(self.id,money,self.rate/12,money)\n",
    "    def deposit(self):\n",
    "        self.balance=self.balance - self.qu\n",
    "        money1=self.balance*self.rate                  #取钱\n",
    "        print(self.id,self.balance,self.rate/12,money1)\n",
    "        "
   ]
  },
  {
   "cell_type": "code",
   "execution_count": 31,
   "metadata": {},
   "outputs": [
    {
     "name": "stdout",
     "output_type": "stream",
     "text": [
      "初始了\n"
     ]
    }
   ],
   "source": [
    "a=account()"
   ]
  },
  {
   "cell_type": "code",
   "execution_count": 29,
   "metadata": {},
   "outputs": [
    {
     "name": "stdout",
     "output_type": "stream",
     "text": [
      "1122 1012.5 0.00375 1012.5\n"
     ]
    }
   ],
   "source": [
    "a.withdraw()"
   ]
  },
  {
   "cell_type": "code",
   "execution_count": 32,
   "metadata": {},
   "outputs": [
    {
     "name": "stdout",
     "output_type": "stream",
     "text": [
      "1122 17000 0.00375 765.0\n"
     ]
    }
   ],
   "source": [
    "a.deposit()"
   ]
  },
  {
   "cell_type": "markdown",
   "metadata": {},
   "source": [
    "- 3\n",
    "![](../Photo/93.png)"
   ]
  },
  {
   "cell_type": "code",
   "execution_count": 35,
   "metadata": {},
   "outputs": [],
   "source": [
    "class fan:\n",
    "    def __init__(self):      #初始化\n",
    "        print('初始化了')\n",
    "        self.speed='slow'\n",
    "        self.radius=5       #设置默认值\n",
    "        self.on='false'\n",
    "        self.color='blue'\n",
    "    def one(self):\n",
    "        self.speed='fast'\n",
    "        self.radius=10       #更换数据\n",
    "        self.color='yellow'\n",
    "        self.on='open'\n",
    "        print('speed: ',self.speed,'radius: ',self.radius,'color: ',self.color,'on: ',self.on)\n",
    "    def two(self):\n",
    "        self.speed='medium'   #更换数据，打印不同的东西\n",
    "        print('speed: ',self.speed,'radius: ',self.radius,'color: ',self.color,'on: ',self.on)"
   ]
  },
  {
   "cell_type": "code",
   "execution_count": 36,
   "metadata": {},
   "outputs": [
    {
     "name": "stdout",
     "output_type": "stream",
     "text": [
      "初始化了\n"
     ]
    }
   ],
   "source": [
    "a=fan()"
   ]
  },
  {
   "cell_type": "code",
   "execution_count": 38,
   "metadata": {},
   "outputs": [
    {
     "name": "stdout",
     "output_type": "stream",
     "text": [
      "speed:  fast radius:  10 color:  yellow on:  open\n"
     ]
    }
   ],
   "source": [
    "a.one()"
   ]
  },
  {
   "cell_type": "code",
   "execution_count": 39,
   "metadata": {},
   "outputs": [
    {
     "name": "stdout",
     "output_type": "stream",
     "text": [
      "speed:  medium radius:  10 color:  yellow on:  open\n"
     ]
    }
   ],
   "source": [
    "a.two()"
   ]
  },
  {
   "cell_type": "markdown",
   "metadata": {},
   "source": [
    "- 4\n",
    "![](../Photo/94.png)\n",
    "![](../Photo/95.png)"
   ]
  },
  {
   "cell_type": "code",
   "execution_count": 41,
   "metadata": {},
   "outputs": [],
   "source": [
    "import math"
   ]
  },
  {
   "cell_type": "code",
   "execution_count": 57,
   "metadata": {},
   "outputs": [],
   "source": [
    "class regular:\n",
    "    def __init__(self):     #初始化\n",
    "        self.n=eval(input('请输入边数'))\n",
    "        self.side=eval(input('请输入边长'))     #自己输入数据\n",
    "    \n",
    "    \n",
    "    def zhouchang(self):                    #周长\n",
    "        print(self.n *self.side)\n",
    "    \n",
    "    def mianji(self):                      #面积\n",
    "        print((self.n*self.side**2)/4*math.tan(math.pi/self.n))\n",
    "        \n",
    "    "
   ]
  },
  {
   "cell_type": "code",
   "execution_count": 58,
   "metadata": {},
   "outputs": [
    {
     "name": "stdout",
     "output_type": "stream",
     "text": [
      "请输入边数6\n",
      "请输入边长4\n"
     ]
    }
   ],
   "source": [
    "a=regular()"
   ]
  },
  {
   "cell_type": "code",
   "execution_count": 59,
   "metadata": {},
   "outputs": [
    {
     "name": "stdout",
     "output_type": "stream",
     "text": [
      "24\n"
     ]
    }
   ],
   "source": [
    "a.zhouchang()"
   ]
  },
  {
   "cell_type": "code",
   "execution_count": 60,
   "metadata": {},
   "outputs": [
    {
     "name": "stdout",
     "output_type": "stream",
     "text": [
      "13.856406460551018\n"
     ]
    }
   ],
   "source": [
    "a.mianji()"
   ]
  },
  {
   "cell_type": "markdown",
   "metadata": {},
   "source": [
    "- 5\n",
    "![](../Photo/96.png)"
   ]
  },
  {
   "cell_type": "code",
   "execution_count": 74,
   "metadata": {},
   "outputs": [],
   "source": [
    "class jie:\n",
    "    def __init__(self):     #初始化\n",
    "        self.a=eval(input('请输入值'))\n",
    "        self.b=eval(input('请输入值'))\n",
    "        self.c=eval(input('请输入值'))\n",
    "        self.d=eval(input('请输入值'))            #自己输入数据\n",
    "        self.e=eval(input('请输入值'))\n",
    "        self.f=eval(input('请输入值'))\n",
    "    def solvable(self):\n",
    "        if self.a*self.d - self.b*self.c==0:          #判断有没有解\n",
    "            print('这个方程式无解')\n",
    "        else:\n",
    "            print('true')\n",
    "    def getx(self):\n",
    "        self.x=(self.e*self.d-self.b*self.f) / (self.a*self.d - self.b*self.c)         #显示一个解\n",
    "        print(self.x)\n",
    "    def gety(self):\n",
    "        self.y=(self.a*self.f-self.e*self.c) / (self.a*self.d-self.b*self.c)          #显示另一个\n",
    "        print(self.y)\n",
    "        "
   ]
  },
  {
   "cell_type": "code",
   "execution_count": 75,
   "metadata": {},
   "outputs": [
    {
     "name": "stdout",
     "output_type": "stream",
     "text": [
      "请输入值5\n",
      "请输入值4\n",
      "请输入值6\n",
      "请输入值1\n",
      "请输入值1\n",
      "请输入值2\n"
     ]
    }
   ],
   "source": [
    "a=jie()"
   ]
  },
  {
   "cell_type": "code",
   "execution_count": 76,
   "metadata": {},
   "outputs": [
    {
     "name": "stdout",
     "output_type": "stream",
     "text": [
      "true\n"
     ]
    }
   ],
   "source": [
    "a.solvable()"
   ]
  },
  {
   "cell_type": "code",
   "execution_count": 77,
   "metadata": {},
   "outputs": [
    {
     "name": "stdout",
     "output_type": "stream",
     "text": [
      "0.3684210526315789\n"
     ]
    }
   ],
   "source": [
    "a.getx()"
   ]
  },
  {
   "cell_type": "code",
   "execution_count": 78,
   "metadata": {},
   "outputs": [
    {
     "name": "stdout",
     "output_type": "stream",
     "text": [
      "-0.21052631578947367\n"
     ]
    }
   ],
   "source": [
    "a.gety()"
   ]
  },
  {
   "cell_type": "markdown",
   "metadata": {},
   "source": [
    "- 6\n",
    "![](../Photo/97.png)"
   ]
  },
  {
   "cell_type": "code",
   "execution_count": null,
   "metadata": {},
   "outputs": [],
   "source": [
    "class jiaodian:\n",
    "    def __init__(self):\n",
    "        self.x1=input('请输入x1')\n",
    "        self.y1=input('请输入y1')\n",
    "        self.x2=input('请输入x2')\n",
    "        self.y2=input('请输入y2')\n",
    "        self.x3=input('请输入x3')\n",
    "        self.y3=input('请输入y3')\n",
    "        self.x4=input('请输入x4')\n",
    "        self.y4=input('请输入y4')\n",
    "    def \n",
    "        \n",
    "        "
   ]
  },
  {
   "cell_type": "markdown",
   "metadata": {},
   "source": [
    "- 7\n",
    "![](../Photo/98.png)"
   ]
  }
 ],
 "metadata": {
  "kernelspec": {
   "display_name": "Python 3",
   "language": "python",
   "name": "python3"
  },
  "language_info": {
   "codemirror_mode": {
    "name": "ipython",
    "version": 3
   },
   "file_extension": ".py",
   "mimetype": "text/x-python",
   "name": "python",
   "nbconvert_exporter": "python",
   "pygments_lexer": "ipython3",
   "version": "3.7.3"
  }
 },
 "nbformat": 4,
 "nbformat_minor": 2
}
