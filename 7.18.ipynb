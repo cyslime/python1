{
 "cells": [
  {
   "cell_type": "markdown",
   "metadata": {},
   "source": [
    "# 选择\n",
    "## 布尔类型、数值和表达式(true、false)\n",
    "![](../Photo/33.png)\n",
    "- 注意：比较运算符的相等是两个等号，一个等到代表赋值\n",
    "- 在Python中可以用整型0来代表False，其他数字来代表True\n",
    "- 后面还会讲到 is 在判断语句中的用发"
   ]
  },
  {
   "cell_type": "code",
   "execution_count": 1,
   "metadata": {},
   "outputs": [
    {
     "data": {
      "text/plain": [
       "True"
      ]
     },
     "execution_count": 1,
     "metadata": {},
     "output_type": "execute_result"
    }
   ],
   "source": [
    "a=1\n",
    "b=1\n",
    "a==b"
   ]
  },
  {
   "cell_type": "code",
   "execution_count": 2,
   "metadata": {},
   "outputs": [
    {
     "data": {
      "text/plain": [
       "False"
      ]
     },
     "execution_count": 2,
     "metadata": {},
     "output_type": "execute_result"
    }
   ],
   "source": [
    "a=1\n",
    "b='1'\n",
    "a==b"
   ]
  },
  {
   "cell_type": "code",
   "execution_count": 3,
   "metadata": {},
   "outputs": [
    {
     "data": {
      "text/plain": [
       "True"
      ]
     },
     "execution_count": 3,
     "metadata": {},
     "output_type": "execute_result"
    }
   ],
   "source": [
    "a=1\n",
    "b=1.0\n",
    "a==b"
   ]
  },
  {
   "cell_type": "code",
   "execution_count": 5,
   "metadata": {},
   "outputs": [
    {
     "data": {
      "text/plain": [
       "False"
      ]
     },
     "execution_count": 5,
     "metadata": {},
     "output_type": "execute_result"
    }
   ],
   "source": [
    "a='1'\n",
    "b='2'\n",
    "a>b"
   ]
  },
  {
   "cell_type": "code",
   "execution_count": 6,
   "metadata": {},
   "outputs": [
    {
     "ename": "TypeError",
     "evalue": "'>' not supported between instances of 'int' and 'str'",
     "output_type": "error",
     "traceback": [
      "\u001b[1;31m---------------------------------------------------------------------------\u001b[0m",
      "\u001b[1;31mTypeError\u001b[0m                                 Traceback (most recent call last)",
      "\u001b[1;32m<ipython-input-6-e28118d93682>\u001b[0m in \u001b[0;36m<module>\u001b[1;34m\u001b[0m\n\u001b[0;32m      1\u001b[0m \u001b[0ma\u001b[0m\u001b[1;33m=\u001b[0m\u001b[1;36m1\u001b[0m\u001b[1;33m\u001b[0m\u001b[1;33m\u001b[0m\u001b[0m\n\u001b[0;32m      2\u001b[0m \u001b[0mb\u001b[0m\u001b[1;33m=\u001b[0m\u001b[1;34m'2'\u001b[0m\u001b[1;33m\u001b[0m\u001b[1;33m\u001b[0m\u001b[0m\n\u001b[1;32m----> 3\u001b[1;33m \u001b[0ma\u001b[0m\u001b[1;33m>\u001b[0m\u001b[0mb\u001b[0m\u001b[1;33m\u001b[0m\u001b[1;33m\u001b[0m\u001b[0m\n\u001b[0m",
      "\u001b[1;31mTypeError\u001b[0m: '>' not supported between instances of 'int' and 'str'"
     ]
    }
   ],
   "source": [
    "a=1\n",
    "b='2'\n",
    "a>b"
   ]
  },
  {
   "cell_type": "code",
   "execution_count": 7,
   "metadata": {},
   "outputs": [
    {
     "data": {
      "text/plain": [
       "False"
      ]
     },
     "execution_count": 7,
     "metadata": {},
     "output_type": "execute_result"
    }
   ],
   "source": [
    "0 is 1"
   ]
  },
  {
   "cell_type": "markdown",
   "metadata": {},
   "source": [
    "## 字符串的比较使用ASCII值（大写字母排在小写字母前）小写排在前面的小"
   ]
  },
  {
   "cell_type": "code",
   "execution_count": 9,
   "metadata": {},
   "outputs": [
    {
     "data": {
      "text/plain": [
       "False"
      ]
     },
     "execution_count": 9,
     "metadata": {},
     "output_type": "execute_result"
    }
   ],
   "source": [
    "a='cy'\n",
    "b='hsh'\n",
    "a>b"
   ]
  },
  {
   "cell_type": "markdown",
   "metadata": {},
   "source": [
    "## Markdown \n",
    "- https://github.com/younghz/Markdown"
   ]
  },
  {
   "cell_type": "markdown",
   "metadata": {},
   "source": [
    "$x = 2x+1$"
   ]
  },
  {
   "cell_type": "markdown",
   "metadata": {},
   "source": [
    "## EP:\n",
    "- <img src=\"../Photo/34.png\"></img>\n",
    "- 输入一个数字，判断其实奇数还是偶数"
   ]
  },
  {
   "cell_type": "code",
   "execution_count": 15,
   "metadata": {},
   "outputs": [
    {
     "data": {
      "text/plain": [
       "1"
      ]
     },
     "execution_count": 15,
     "metadata": {},
     "output_type": "execute_result"
    }
   ],
   "source": [
    "int(True)"
   ]
  },
  {
   "cell_type": "code",
   "execution_count": 17,
   "metadata": {},
   "outputs": [
    {
     "data": {
      "text/plain": [
       "0"
      ]
     },
     "execution_count": 17,
     "metadata": {},
     "output_type": "execute_result"
    }
   ],
   "source": [
    "int(False)"
   ]
  },
  {
   "cell_type": "code",
   "execution_count": 18,
   "metadata": {},
   "outputs": [
    {
     "data": {
      "text/plain": [
       "True"
      ]
     },
     "execution_count": 18,
     "metadata": {},
     "output_type": "execute_result"
    }
   ],
   "source": [
    "bool(4)"
   ]
  },
  {
   "cell_type": "code",
   "execution_count": 19,
   "metadata": {},
   "outputs": [
    {
     "data": {
      "text/plain": [
       "False"
      ]
     },
     "execution_count": 19,
     "metadata": {},
     "output_type": "execute_result"
    }
   ],
   "source": [
    "bool(0)"
   ]
  },
  {
   "cell_type": "code",
   "execution_count": 22,
   "metadata": {},
   "outputs": [
    {
     "name": "stdout",
     "output_type": "stream",
     "text": [
      "shuruzhi5\n",
      "shi ji shu \n"
     ]
    }
   ],
   "source": [
    "i=eval(input('shuruzhi'))\n",
    "if i%2 == 0:\n",
    "    print(\"shi ou shu\")\n",
    "else:\n",
    "    print('shi ji shu ')"
   ]
  },
  {
   "cell_type": "code",
   "execution_count": 23,
   "metadata": {},
   "outputs": [
    {
     "name": "stdout",
     "output_type": "stream",
     "text": [
      "shuruzhi5\n",
      "shi ji shu \n"
     ]
    }
   ],
   "source": [
    "i=eval(input('shuruzhi'))\n",
    "if not bool(i%2):\n",
    "    print(\"shi ou shu\")\n",
    "else:\n",
    "    print('shi ji shu ')"
   ]
  },
  {
   "cell_type": "markdown",
   "metadata": {},
   "source": [
    "## 产生随机数字\n",
    "- 函数random.randint(a,b) 可以用来产生一个a和b之间且包括a和b的随机整数"
   ]
  },
  {
   "cell_type": "markdown",
   "metadata": {},
   "source": [
    "产生一个随机数，你去输入，如果你输入的数大于随机数，那么就告诉你太大了，反之，太小了，\n",
    "然后你一直输入，知道它满意为止"
   ]
  },
  {
   "cell_type": "code",
   "execution_count": 24,
   "metadata": {},
   "outputs": [],
   "source": [
    "import random"
   ]
  },
  {
   "cell_type": "code",
   "execution_count": 29,
   "metadata": {},
   "outputs": [
    {
     "data": {
      "text/plain": [
       "3"
      ]
     },
     "execution_count": 29,
     "metadata": {},
     "output_type": "execute_result"
    }
   ],
   "source": [
    "random.randint(2,3)"
   ]
  },
  {
   "cell_type": "code",
   "execution_count": null,
   "metadata": {},
   "outputs": [],
   "source": []
  },
  {
   "cell_type": "code",
   "execution_count": 37,
   "metadata": {},
   "outputs": [
    {
     "name": "stdout",
     "output_type": "stream",
     "text": [
      "输入数0\n",
      "太小了\n"
     ]
    }
   ],
   "source": [
    "i=eval(input('输入数'))\n",
    "c=random.randint(1,10)\n",
    "if i>10:\n",
    "    print('太大了')\n",
    "if i<1:\n",
    "    print('太小了')\n",
    "if 1<i<10:\n",
    "    print(c)\n",
    "   \n"
   ]
  },
  {
   "cell_type": "code",
   "execution_count": 46,
   "metadata": {},
   "outputs": [
    {
     "ename": "SyntaxError",
     "evalue": "invalid character in identifier (<ipython-input-46-45203b159577>, line 1)",
     "output_type": "error",
     "traceback": [
      "\u001b[1;36m  File \u001b[1;32m\"<ipython-input-46-45203b159577>\"\u001b[1;36m, line \u001b[1;32m1\u001b[0m\n\u001b[1;33m    c=random.randint(1,10）\u001b[0m\n\u001b[1;37m                         ^\u001b[0m\n\u001b[1;31mSyntaxError\u001b[0m\u001b[1;31m:\u001b[0m invalid character in identifier\n"
     ]
    }
   ],
   "source": [
    "c=random.randint(1,10）"
   ]
  },
  {
   "cell_type": "code",
   "execution_count": 49,
   "metadata": {},
   "outputs": [
    {
     "name": "stdout",
     "output_type": "stream",
     "text": [
      "输入数5\n",
      "太大了\n",
      "输入数6\n",
      "太大了\n",
      "输入数1\n",
      "正确\n"
     ]
    }
   ],
   "source": [
    "import random\n",
    "while 1:\n",
    "    i=eval(input('输入数'))\n",
    "    if i>c:\n",
    "        print('太大了')\n",
    "    if i<c:\n",
    "        print('太小了')\n",
    "    if i==c:\n",
    "        print('正确')\n",
    "        break"
   ]
  },
  {
   "cell_type": "markdown",
   "metadata": {},
   "source": [
    "##  其他random方法\n",
    "- random.random 返回0.0到1.0之间前闭后开区间的随机浮点\n",
    "- random.randrange(a,b) 前闭后开范围"
   ]
  },
  {
   "cell_type": "code",
   "execution_count": 44,
   "metadata": {},
   "outputs": [
    {
     "data": {
      "text/plain": [
       "7"
      ]
     },
     "execution_count": 44,
     "metadata": {},
     "output_type": "execute_result"
    }
   ],
   "source": [
    "random.randrange(5,10)"
   ]
  },
  {
   "cell_type": "code",
   "execution_count": 45,
   "metadata": {},
   "outputs": [
    {
     "data": {
      "text/plain": [
       "0.40387193168113455"
      ]
     },
     "execution_count": 45,
     "metadata": {},
     "output_type": "execute_result"
    }
   ],
   "source": [
    "random.random()"
   ]
  },
  {
   "cell_type": "markdown",
   "metadata": {},
   "source": [
    "## EP：\n",
    "- 产生两个随机整数number1和number2，然后显示给用户，使用户输入数字的和，并判定其是否正确\n",
    "- 进阶:写一个随机序号点名程序"
   ]
  },
  {
   "cell_type": "code",
   "execution_count": 2,
   "metadata": {},
   "outputs": [
    {
     "name": "stdout",
     "output_type": "stream",
     "text": [
      "请输入和12\n",
      "caicuo\n",
      "请输入和41\n",
      "caicuo\n",
      "请输入和23\n",
      "caicuo\n",
      "请输入和2\n",
      "caicuo\n",
      "请输入和21\n",
      "caicuo\n"
     ]
    }
   ],
   "source": [
    "import random\n",
    "a=random.randrange(5,10)\n",
    "b=random.randrange(5,9)\n",
    "c=a+b\n",
    "number=0\n",
    "while number<5:\n",
    "    d=eval(input('请输入和'))\n",
    "    if d!=c:\n",
    "        print('caicuo')\n",
    "    if d== c:\n",
    "        print('c')\n",
    "        break\n",
    "    number +=1\n",
    "    \n",
    "\n"
   ]
  },
  {
   "cell_type": "code",
   "execution_count": 6,
   "metadata": {},
   "outputs": [
    {
     "name": "stdout",
     "output_type": "stream",
     "text": [
      "输入一个数35\n",
      "5 可以整除\n",
      "7 可以整除\n"
     ]
    }
   ],
   "source": [
    "x=eval(input('输入一个数'))\n",
    "\n",
    "for i in range(2,x):\n",
    "    if x%i==0:\n",
    "        print(i,'可以整除')"
   ]
  },
  {
   "cell_type": "code",
   "execution_count": null,
   "metadata": {},
   "outputs": [],
   "source": [
    "#输入一个数字可以整除2、3"
   ]
  },
  {
   "cell_type": "markdown",
   "metadata": {},
   "source": [
    "## if语句\n",
    "- 如果条件正确就执行一个单向if语句，亦即当条件为真的时候才执行if内部的语句\n",
    "- Python有很多选择语句:\n",
    "> - 单向if \n",
    "  - 双向if-else\n",
    "  - 嵌套if\n",
    "  - 多向if-elif-else\n",
    "  \n",
    "- 注意：当语句含有子语句的时候，那么一定至少要有一个缩进，也就是说如果有儿子存在，那么一定要缩进\n",
    "- 切记不可tab键和space混用，单用tab 或者 space\n",
    "- 当你输出的结果是无论if是否为真时都需要显示时，语句应该与if对齐"
   ]
  },
  {
   "cell_type": "code",
   "execution_count": null,
   "metadata": {},
   "outputs": [],
   "source": []
  },
  {
   "cell_type": "markdown",
   "metadata": {},
   "source": [
    "## EP：\n",
    "- 用户输入一个数字，判断其实奇数还是偶数\n",
    "- 进阶：可以查看下4.5实例研究猜生日"
   ]
  },
  {
   "cell_type": "code",
   "execution_count": null,
   "metadata": {
    "collapsed": true
   },
   "outputs": [],
   "source": []
  },
  {
   "cell_type": "markdown",
   "metadata": {},
   "source": [
    "## 双向if-else 语句\n",
    "- 如果条件为真，那么走if内部语句，否则走else内部语句"
   ]
  },
  {
   "cell_type": "markdown",
   "metadata": {},
   "source": [
    "## EP：\n",
    "- 产生两个随机整数number1和number2，然后显示给用户，使用户输入数字，并判定其是否正确,如果正确打印“you‘re correct”，否则打印正确错误"
   ]
  },
  {
   "cell_type": "markdown",
   "metadata": {},
   "source": [
    "## 嵌套if 和多向if-elif-else\n",
    "![](../Photo/35.png)"
   ]
  },
  {
   "cell_type": "code",
   "execution_count": 11,
   "metadata": {},
   "outputs": [
    {
     "name": "stdout",
     "output_type": "stream",
     "text": [
      "有钱吗有钱\n",
      "yes\n",
      "帅不帅呀帅\n",
      "有没有老婆哦\n",
      "有老婆\n",
      "滚\n"
     ]
    }
   ],
   "source": [
    "x=input('有钱吗')\n",
    "x1='有钱'\n",
    "b1='帅'\n",
    "c1='有老婆'\n",
    "if x1==x:\n",
    "    print('yes')\n",
    "    b=input('帅不帅呀')\n",
    "    if b1==b:\n",
    "        print('有没有老婆哦')\n",
    "        a=input(\"\")\n",
    "        if a==c1:\n",
    "            print(\"滚\")\n",
    "        else:\n",
    "            print('见一面')\n",
    "    else:\n",
    "        print('考虑')\n",
    "else:\n",
    "    print('gun')\n",
    "    "
   ]
  },
  {
   "cell_type": "code",
   "execution_count": 12,
   "metadata": {},
   "outputs": [
    {
     "name": "stdout",
     "output_type": "stream",
     "text": [
      "money[y/n]y\n",
      "再问一个问题~\n",
      "handsome[y/n]y\n",
      "再问一个问题\n",
      "wife[y/n]y\n",
      "考虑\n"
     ]
    }
   ],
   "source": [
    "money= input('money[y/n]')\n",
    "if money =='y':\n",
    "    print('再问一个问题~')\n",
    "    h=input('handsome[y/n]')\n",
    "    if h=='y':\n",
    "        print('再问一个问题')\n",
    "        c=input('wife[y/n]')\n",
    "        if c=='y':\n",
    "            print('考虑')\n",
    "        else:\n",
    "            print('马上结婚')\n",
    "    else:\n",
    "        print('考虑一下')\n",
    "else:\n",
    "    print('gun~')"
   ]
  },
  {
   "cell_type": "code",
   "execution_count": 19,
   "metadata": {},
   "outputs": [
    {
     "name": "stdout",
     "output_type": "stream",
     "text": [
      "a[y/n]y\n",
      "再问一个问题\n",
      "b[y/n]y\n",
      "c[y/n]y\n",
      "有老婆，考虑一下\n"
     ]
    }
   ],
   "source": [
    "a=input('a[y/n]')\n",
    "if a=='y':\n",
    "    print('再问一个问题')\n",
    "    b=input('b[y/n]')\n",
    "    if b=='y':\n",
    "        c=input('c[y/n]')\n",
    "        if c=='y':\n",
    "            print('有老婆，考虑一下')\n",
    "        elif c=='n':\n",
    "            print('马上结婚')\n",
    "    elif b=='n':\n",
    "        print('考虑一下')\n",
    "elif a=='n':\n",
    "    print('gun')\n",
    "   \n",
    "    \n",
    "     \n",
    "    \n",
    "    "
   ]
  },
  {
   "cell_type": "markdown",
   "metadata": {},
   "source": [
    "## EP：\n",
    "- 提示用户输入一个年份，然后显示表示这一年的动物\n",
    "![](../Photo/36.png)\n",
    "- 计算身体质量指数的程序\n",
    "- BMI = 以千克为单位的体重除以以米为单位的身高的平方\n",
    "![](../Photo/37.png)"
   ]
  },
  {
   "cell_type": "code",
   "execution_count": 13,
   "metadata": {},
   "outputs": [
    {
     "name": "stdout",
     "output_type": "stream",
     "text": [
      "输入年份1999\n",
      "兔\n"
     ]
    }
   ],
   "source": [
    "x=eval(input('输入年份'))\n",
    "if x%12==0:\n",
    "    print('猴')\n",
    "elif x%12==1:\n",
    "    print('鸡')\n",
    "elif x%12==2:\n",
    "    print('狗')\n",
    "elif x%12==3:\n",
    "    print('猪')\n",
    "elif x%12==4:\n",
    "    print('鼠')\n",
    "elif x%12==5:\n",
    "    print('牛')\n",
    "elif x%12==6:\n",
    "    print('虎')\n",
    "elif x%12==7:\n",
    "    print('兔')\n",
    "elif x%12==8:\n",
    "    print('龙')\n",
    "elif x%12==9:\n",
    "    print('蛇')\n",
    "elif x%12==10:\n",
    "    print('马')\n",
    "elif x%12==11:\n",
    "    print('羊')\n",
    "    "
   ]
  },
  {
   "cell_type": "code",
   "execution_count": null,
   "metadata": {},
   "outputs": [],
   "source": [
    "\n",
    "\n",
    "\n",
    "\n",
    "\n",
    "\n",
    "\n",
    "\n",
    "\n",
    "\n"
   ]
  },
  {
   "cell_type": "code",
   "execution_count": 16,
   "metadata": {},
   "outputs": [
    {
     "name": "stdout",
     "output_type": "stream",
     "text": [
      "输入体重60\n",
      "输入身高1.55\n",
      "标准\n"
     ]
    }
   ],
   "source": [
    "wigh=eval(input('输入体重'))\n",
    "high=eval(input('输入身高'))\n",
    "bmi=wigh/high/high\n",
    "if bmi<18.5:\n",
    "    print('超轻')\n",
    "elif 18.5<=bmi<25.0:\n",
    "    print('标准')\n",
    "elif 25.0<=bmi<30.0:\n",
    "    print('超重')\n",
    "elif bmi>=30.0:\n",
    "    print('痴肥')"
   ]
  },
  {
   "cell_type": "markdown",
   "metadata": {},
   "source": [
    "## 逻辑运算符\n",
    "![](../Photo/38.png)"
   ]
  },
  {
   "cell_type": "code",
   "execution_count": null,
   "metadata": {},
   "outputs": [],
   "source": []
  },
  {
   "cell_type": "markdown",
   "metadata": {},
   "source": [
    "![](../Photo/39.png)\n",
    "![](../Photo/40.png)"
   ]
  },
  {
   "cell_type": "markdown",
   "metadata": {},
   "source": [
    "## EP：\n",
    "- 判定闰年：一个年份如果能被4整除但不能被100整除，或者能被400整除，那么这个年份就是闰年\n",
    "- 提示用户输入一个年份，并返回是否是闰年\n",
    "- 提示用户输入一个数字，判断其是否为水仙花数"
   ]
  },
  {
   "cell_type": "code",
   "execution_count": 20,
   "metadata": {},
   "outputs": [
    {
     "name": "stdout",
     "output_type": "stream",
     "text": [
      "输入年份1999\n",
      "为平年\n"
     ]
    }
   ],
   "source": [
    "year=eval(input('输入年份'))\n",
    "if ((year%4==0) and (year%100!=0)) or(year%400==0):\n",
    "    print('是闰年')\n",
    "else:\n",
    "    print('为平年')"
   ]
  },
  {
   "cell_type": "code",
   "execution_count": 22,
   "metadata": {},
   "outputs": [
    {
     "name": "stdout",
     "output_type": "stream",
     "text": [
      "输入年份2000\n",
      "是闰年\n"
     ]
    }
   ],
   "source": [
    "year=eval(input('输入年份'))\n",
    "if ((year%4==0) and (year%100!=0)) or(year%400==0):\n",
    "    print('是闰年')\n",
    "else:\n",
    "    print('不是闰年')"
   ]
  },
  {
   "cell_type": "code",
   "execution_count": 25,
   "metadata": {},
   "outputs": [
    {
     "name": "stdout",
     "output_type": "stream",
     "text": [
      "输入数153\n",
      "是水仙花数\n"
     ]
    }
   ],
   "source": [
    "x=eval(input('输入数'))\n",
    "bai=x//100\n",
    "shi=x//10%10\n",
    "ge=x%10\n",
    "\n",
    "if bai**3+shi**3+ge**3==x:\n",
    "    print('是水仙花数')\n",
    "else:\n",
    "    print('不是水仙花数')\n"
   ]
  },
  {
   "cell_type": "code",
   "execution_count": 28,
   "metadata": {},
   "outputs": [
    {
     "name": "stdout",
     "output_type": "stream",
     "text": [
      "153 水仙花\n",
      "370 水仙花\n",
      "371 水仙花\n",
      "407 水仙花\n"
     ]
    }
   ],
   "source": [
    "for i in range(100,999):\n",
    "    bai=i//100\n",
    "    shi=i//10%10\n",
    "    ge=i%10\n",
    "    \n",
    "    if i==bai**3+shi**3+ge**3:\n",
    "        print(i,'水仙花')\n"
   ]
  },
  {
   "cell_type": "markdown",
   "metadata": {},
   "source": [
    "## 实例研究：彩票\n",
    "![](../Photo/41.png)"
   ]
  },
  {
   "cell_type": "code",
   "execution_count": 7,
   "metadata": {},
   "outputs": [
    {
     "name": "stdout",
     "output_type": "stream",
     "text": [
      "29\n",
      ">>29\n",
      "10000\n"
     ]
    }
   ],
   "source": [
    "number = random.randint(10,99)\n",
    "print(number)\n",
    "N = input('>>')\n",
    "number_shi = number // 10\n",
    "number_ge = number % 10\n",
    "\n",
    "if N[0] == '0':\n",
    "    N_shi = 0\n",
    "else:\n",
    "    N_shi = int(N) // 10\n",
    "    N_ge = int(N) % 10\n",
    "\n",
    "if number == int(N):\n",
    "    print('10000')\n",
    "#elif (number_shi == N_shi or number_shi==N_ge) and (number_ge == N_shi or number_ge==N_ge)\n",
    "elif number_shi + number_ge == N_shi + N_ge:\n",
    "    print('3000')\n",
    "elif (number_ge == N_ge or number_ge == N_shi) or (number_shi == N_ge or number_shi == N_shi):\n",
    "    print('1000')"
   ]
  },
  {
   "cell_type": "markdown",
   "metadata": {},
   "source": [
    "# Homework\n",
    "- 1\n",
    "![](../Photo/42.png)"
   ]
  },
  {
   "cell_type": "code",
   "execution_count": 2,
   "metadata": {},
   "outputs": [
    {
     "name": "stdout",
     "output_type": "stream",
     "text": [
      "输入系数1.0\n",
      "输入系数2.0\n",
      "输入系数1\n",
      "-1.0\n"
     ]
    }
   ],
   "source": [
    "a=eval(input('输入系数'))\n",
    "b=eval(input('输入系数'))\n",
    "c=eval(input('输入系数'))\n",
    "d=b**2-4*a*c\n",
    "r1=(-b+pow(b**2-4*a*c,1/2))/2*a\n",
    "r2=(-b-pow(b**2-4*a*c,1/2))/2*a\n",
    "if d>0:\n",
    "    print(r1 ,'and',r2)\n",
    "elif d==0:\n",
    "    print(r1)\n",
    "elif d<0:\n",
    "    print('The equation has no real roots')"
   ]
  },
  {
   "cell_type": "markdown",
   "metadata": {},
   "source": [
    "- 2\n",
    "![](../Photo/43.png)"
   ]
  },
  {
   "cell_type": "code",
   "execution_count": 4,
   "metadata": {},
   "outputs": [
    {
     "name": "stdout",
     "output_type": "stream",
     "text": [
      "请输入两个数之和85\n",
      "false\n"
     ]
    }
   ],
   "source": [
    "import random\n",
    "a=random.randrange(0,100)\n",
    "b=random.randrange(0,100)\n",
    "c=a+b\n",
    "x=eval(input('请输入两个数之和'))\n",
    "if x==c:\n",
    "    print('true')\n",
    "else:\n",
    "    print('false')\n"
   ]
  },
  {
   "cell_type": "markdown",
   "metadata": {},
   "source": [
    "- 3\n",
    "![](../Photo/44.png)"
   ]
  },
  {
   "cell_type": "code",
   "execution_count": 6,
   "metadata": {},
   "outputs": [
    {
     "name": "stdout",
     "output_type": "stream",
     "text": [
      "请输入0-6之间的整数1\n",
      "请输入未来天数3\n",
      "today is  1 and the future day is 4\n"
     ]
    }
   ],
   "source": [
    "today=eval(input('请输入0-6之间的整数'))\n",
    "future=eval(input('请输入未来天数'))\n",
    "if today==0:\n",
    "    week=(today+future)%7\n",
    "    print('today is ',today,'and the future day is',week)\n",
    "if today==1:\n",
    "    week=(today+future)%7\n",
    "    print('today is ',today,'and the future day is',week)\n",
    "if today==2:\n",
    "    week=(today+future)%7\n",
    "    print('today is ',today,'and the future day is',week)\n",
    "if today==3:\n",
    "    week=(today+future)%7\n",
    "    print('today is ',today,'and the future day is',week)\n",
    "if today==4:\n",
    "    week=(today+future)%7\n",
    "    print('today is ',today,'and the future day is',week)\n",
    "if today==5:\n",
    "    week=(today+future)%7\n",
    "    print('today is ',today,'and the future day is',week)\n",
    "if today==6:\n",
    "    week=(today+future)%7\n",
    "    print('today is ',today,'and the future day is',week)\n",
    "    \n"
   ]
  },
  {
   "cell_type": "markdown",
   "metadata": {},
   "source": [
    "- 4\n",
    "![](../Photo/45.png)"
   ]
  },
  {
   "cell_type": "code",
   "execution_count": 8,
   "metadata": {},
   "outputs": [
    {
     "name": "stdout",
     "output_type": "stream",
     "text": [
      "请输入三个整数5,6,2\n",
      "2 5 6\n"
     ]
    }
   ],
   "source": [
    "x,y,z=eval(input('请输入三个整数'))\n",
    "if x<y<z:\n",
    "    print(x,y,z)\n",
    "if x<z<y:\n",
    "    print(x,z,y)\n",
    "if y<x<z:\n",
    "    print(y,x,z)\n",
    "if y<z<x:\n",
    "    print(y,z,x)\n",
    "if z<x<y:\n",
    "    print(z,x,y)\n",
    "if z<y<x:\n",
    "    print(z,y,x)\n"
   ]
  },
  {
   "cell_type": "markdown",
   "metadata": {},
   "source": [
    "- 5\n",
    "![](../Photo/46.png)"
   ]
  },
  {
   "cell_type": "code",
   "execution_count": 9,
   "metadata": {},
   "outputs": [
    {
     "name": "stdout",
     "output_type": "stream",
     "text": [
      "请输入大米的质量和价格50,24.59\n",
      "请输入大米的质量和价格25,11.99\n",
      "第二种大米价格更好\n"
     ]
    }
   ],
   "source": [
    "weight,price=eval(input('请输入大米的质量和价格'))\n",
    "weight1,price1=eval(input('请输入大米的质量和价格'))\n",
    "x=price/weight\n",
    "y=price1/weight1\n",
    "if x>y:\n",
    "    print('第二种大米价格更好')\n",
    "else:\n",
    "    print('第一种大米价格更好')\n"
   ]
  },
  {
   "cell_type": "markdown",
   "metadata": {},
   "source": [
    "- 6\n",
    "![](../Photo/47.png)"
   ]
  },
  {
   "cell_type": "code",
   "execution_count": 3,
   "metadata": {},
   "outputs": [
    {
     "name": "stdout",
     "output_type": "stream",
     "text": [
      "请输入年份2005\n",
      "请输入月份3\n",
      "2005 年 3 月 有31天\n"
     ]
    }
   ],
   "source": [
    "year=eval(input('请输入年份'))\n",
    "month=eval(input('请输入月份'))\n",
    "if ((year%4==0) and (year%100!=0)) or(year%400==0):\n",
    "    if month<=7:\n",
    "        if month%2==0:\n",
    "            if month==2:\n",
    "                print(year,'年',month,'月','有29天')\n",
    "            else:\n",
    "                print(year,'年',month,'月','有30天')\n",
    "        else:\n",
    "             print(year,'年',month,'月','有31天')\n",
    "    else:\n",
    "        if month%2==0:\n",
    "            print(year,'年',month,'月','有31天')\n",
    "        else:\n",
    "            print(year,'年',month,'月','有30天')\n",
    "else:\n",
    "    if month<=7:\n",
    "        if month%2==0:\n",
    "            if month==2:\n",
    "                print(year,'年',month,'月','有28天')\n",
    "            else:\n",
    "                print(year,'年',month,'月','有30天')\n",
    "        else:\n",
    "             print(year,'年',month,'月','有31天')\n",
    "    else:\n",
    "        if month%2==0:\n",
    "            print(year,'年',month,'月','有31天')\n",
    "        else:\n",
    "            print(year,'年',month,'月','有30天')\n"
   ]
  },
  {
   "cell_type": "code",
   "execution_count": 9,
   "metadata": {},
   "outputs": [
    {
     "name": "stdout",
     "output_type": "stream",
     "text": [
      "输入月份3\n",
      "输入年份2005\n",
      "2005 年 3 月 有31天\n"
     ]
    }
   ],
   "source": [
    "month = eval(input('输入月份'))\n",
    "year = eval(input('输入年份'))\n",
    "if ((year%4==0) and (year%100!=0)) or (year%400==0):\n",
    "    if month<=7:\n",
    "        if month%2==0:\n",
    "            if month==2:\n",
    "                print(year,'年',month,'月','有29天')\n",
    "            else:\n",
    "                print(year,'年',month,'月','有30天')\n",
    "        else:\n",
    "            print(year,'年',month,'月','有31天')\n",
    "    else:\n",
    "        if month%2==0:\n",
    "            print(year,'年',month,'月','有31天')\n",
    "        else:\n",
    "            print(year,'年',month,'月','有30天')\n",
    "else :\n",
    "    if month<=7:\n",
    "        if month%2==0:\n",
    "            if month==2:\n",
    "                print(year,'年',month,'月','有28天')\n",
    "            else:\n",
    "                print(year,'年',month,'月','有30天')\n",
    "        else:\n",
    "            print(year,'年',month,'月','有31天')\n",
    "    else:\n",
    "        if month%2==0:\n",
    "            print(year,'年',month,'月','有31天')\n",
    "        else:\n",
    "            print(year,'年',month,'月','有30天')"
   ]
  },
  {
   "cell_type": "markdown",
   "metadata": {},
   "source": [
    "- 7\n",
    "![](../Photo/48.png)"
   ]
  },
  {
   "cell_type": "code",
   "execution_count": null,
   "metadata": {},
   "outputs": [],
   "source": []
  },
  {
   "cell_type": "code",
   "execution_count": 11,
   "metadata": {},
   "outputs": [
    {
     "name": "stdout",
     "output_type": "stream",
     "text": [
      "请输入一个猜测值1\n",
      "false\n"
     ]
    }
   ],
   "source": [
    "x=random.randint(0,1)\n",
    "y=eval(input('请输入一个猜测值'))\n",
    "if x==y:\n",
    "    print('true')\n",
    "else:\n",
    "    print('false')"
   ]
  },
  {
   "cell_type": "markdown",
   "metadata": {},
   "source": [
    "- 8\n",
    "![](../Photo/49.png)"
   ]
  },
  {
   "cell_type": "code",
   "execution_count": 3,
   "metadata": {},
   "outputs": [],
   "source": [
    " import random\n"
   ]
  },
  {
   "cell_type": "code",
   "execution_count": 4,
   "metadata": {},
   "outputs": [
    {
     "name": "stdout",
     "output_type": "stream",
     "text": [
      "请输如0，1，2中的一个数字2\n",
      "you won\n"
     ]
    }
   ],
   "source": [
    "computer=random.randint(0,2)\n",
    "me=eval(input('请输如0，1，2中的一个数字'))\n",
    "if me<computer:\n",
    "    print('you loss')\n",
    "if me>computer:\n",
    "    print('you won')\n",
    "if me==computer:\n",
    "    print('lt is a draw')"
   ]
  },
  {
   "cell_type": "markdown",
   "metadata": {},
   "source": [
    "- 9\n",
    "![](../Photo/50.png)"
   ]
  },
  {
   "cell_type": "code",
   "execution_count": 8,
   "metadata": {},
   "outputs": [
    {
     "name": "stdout",
     "output_type": "stream",
     "text": [
      "请输入年份2013\n",
      "请输入月份 1\n",
      "请输入某天25\n",
      "day of the week is 五\n"
     ]
    }
   ],
   "source": [
    "import math\n",
    "year=eval(input('请输入年份'))\n",
    "month=eval(input('请输入月份 '))\n",
    "today=eval(input('请输入某天'))\n",
    "if month>=3:\n",
    "    j=int(year/100)\n",
    "    k=int(year%100)\n",
    "    h = (today+((26*(month+1))/10)+k+(k/4)+(j/4)+5*j)%7\n",
    "    d=math.floor(h)\n",
    "    if d == 0:\n",
    "        print('day of the week is 六')\n",
    "    if d == 1:\n",
    "        print('day of the week is 日')\n",
    "    if d == 2:\n",
    "        print('day of the week is 一')\n",
    "    if d == 3:\n",
    "        print('day of the week is 二')\n",
    "    if d == 4:\n",
    "        print('day of the week is 三')\n",
    "    if d == 5:\n",
    "        print('day of the week is 四')\n",
    "    if d == 6:\n",
    "        print('day of the week is 五')\n",
    "if month==1:\n",
    "    month=13\n",
    "    j=int((year-1)/100)\n",
    "    k=int((year-1)%100)\n",
    "    h = int((today+((26*(month+1))/10)+k+(k/4)+(j/4)+5*j)%7)\n",
    "    d=math.floor(h)\n",
    "    if d == 0:\n",
    "        print('day of the week is 六')\n",
    "    if d == 1:\n",
    "        print('day of the week is 日')\n",
    "    if d == 2:\n",
    "        print('day of the week is 一')\n",
    "    if d == 3:\n",
    "        print('day of the week is 二')\n",
    "    if d == 4:\n",
    "        print('day of the week is 三')\n",
    "    if d == 5:\n",
    "        print('day of the week is 四')\n",
    "    if d == 6:\n",
    "        print('day of the week is 五')\n",
    "if month==2:\n",
    "    month=14\n",
    "    j=int((year-1)/100)\n",
    "    k=int((year-1)%100)\n",
    "    h=int((today+((26*(month+1))/10)+k+(k/4)+(j/4)+5*j)%7)\n",
    "    d=math.floor(h)\n",
    "    if d == 0:\n",
    "        print('day of the week is 六')\n",
    "    if d == 1:\n",
    "        print('day of the week is 日')\n",
    "    if d == 2:\n",
    "        print('day of the week is 一')\n",
    "    if d == 3:\n",
    "        print('day of the week is 二')\n",
    "    if d == 4:\n",
    "        print('day of the week is 三')\n",
    "    if d == 5:\n",
    "        print('day of the week is 四')\n",
    "    if d == 6:\n",
    "        print('day of the week is 五')"
   ]
  },
  {
   "cell_type": "markdown",
   "metadata": {},
   "source": [
    "- 10\n",
    "![](../Photo/51.png)"
   ]
  },
  {
   "cell_type": "code",
   "execution_count": 9,
   "metadata": {},
   "outputs": [
    {
     "name": "stdout",
     "output_type": "stream",
     "text": [
      "heitao 7\n"
     ]
    }
   ],
   "source": [
    "import random\n",
    "x=random.randint(1,13)\n",
    "y=random.randint(14,17)\n",
    "if x==1:\n",
    "    x='Ace'\n",
    "if x==11:\n",
    "    x='Jack'\n",
    "if x==12:\n",
    "    x='Queen'\n",
    "if x==13:\n",
    "    x='King'\n",
    "elif y==14:\n",
    "    y='fangkuai'\n",
    "elif y==15:\n",
    "    y='heitao'\n",
    "elif y==16:\n",
    "    y='meihua'\n",
    "elif y==17:\n",
    "    y='honggtao'\n",
    "print(y,x)\n",
    "    "
   ]
  },
  {
   "cell_type": "markdown",
   "metadata": {},
   "source": [
    "- 11\n",
    "![](../Photo/52.png)"
   ]
  },
  {
   "cell_type": "code",
   "execution_count": 30,
   "metadata": {},
   "outputs": [
    {
     "name": "stdout",
     "output_type": "stream",
     "text": [
      "请输入三个整数1\n",
      "请输入三个整数2\n",
      "请输入三个整数1\n",
      "是回文数\n"
     ]
    }
   ],
   "source": [
    "a=eval(input('请输入三个整数'))\n",
    "b=eval(input('请输入三个整数'))\n",
    "c=eval(input('请输入三个整数'))\n",
    "if a==c:\n",
    "    print('是回文数')\n",
    "else:\n",
    "    print('不是回文数')"
   ]
  },
  {
   "cell_type": "code",
   "execution_count": 33,
   "metadata": {},
   "outputs": [
    {
     "name": "stdout",
     "output_type": "stream",
     "text": [
      "请输入三位整数212\n",
      "是回文数\n"
     ]
    }
   ],
   "source": [
    "x=eval(input('请输入三位整数'))\n",
    "if x%10==x//100:\n",
    "    print('是回文数')\n",
    "else:\n",
    "    print('不是回文数')\n",
    "    "
   ]
  },
  {
   "cell_type": "markdown",
   "metadata": {},
   "source": [
    "- 12\n",
    "![](../Photo/53.png)"
   ]
  },
  {
   "cell_type": "code",
   "execution_count": 12,
   "metadata": {},
   "outputs": [
    {
     "name": "stdout",
     "output_type": "stream",
     "text": [
      "请输入三角形三个边1,9,1\n",
      "输入是非法的\n"
     ]
    }
   ],
   "source": [
    "a,b,c=eval(input('请输入三角形三个边'))\n",
    "d=a+b+c\n",
    "if (a+b>c) and abs(a-b)<c:\n",
    "    print('周长为',d)\n",
    "else:\n",
    "    print('输入是非法的')"
   ]
  },
  {
   "cell_type": "code",
   "execution_count": null,
   "metadata": {},
   "outputs": [],
   "source": [
    "9\n"
   ]
  }
 ],
 "metadata": {
  "kernelspec": {
   "display_name": "Python 3",
   "language": "python",
   "name": "python3"
  },
  "language_info": {
   "codemirror_mode": {
    "name": "ipython",
    "version": 3
   },
   "file_extension": ".py",
   "mimetype": "text/x-python",
   "name": "python",
   "nbconvert_exporter": "python",
   "pygments_lexer": "ipython3",
   "version": "3.7.3"
  }
 },
 "nbformat": 4,
 "nbformat_minor": 2
}
